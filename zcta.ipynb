{
 "cells": [
  {
   "cell_type": "code",
   "execution_count": 183,
   "metadata": {},
   "outputs": [],
   "source": [
    "''' 1. Zipcodes to ZCTAs mapping\n",
    "This script maps every US zipcode to its corresponding ZCTA as mapped\n",
    "by US Bureau of Statistics\n",
    "\n",
    "2. Socio-economic classification of Zipcodes/ZCTAs\n",
    "using K-Means Clustering Algorithm by household income\n",
    "''' \n",
    "# Authour Diana Kung'u\n",
    "\n",
    "from pandas import read_csv, merge, read_excel, ExcelFile, concat\n",
    "import numpy as np\n",
    "\n",
    "from sklearn.cluster import KMeans\n",
    "\n",
    "import matplotlib.pyplot as plt\n",
    "import seaborn as sns\n",
    "sns.set(style='white')\n",
    "import  squarify # Treemap"
   ]
  },
  {
   "cell_type": "code",
   "execution_count": 184,
   "metadata": {},
   "outputs": [],
   "source": [
    "#Read Data\n",
    "zctas = read_csv('.\\Input\\ZCTA_Household_income.csv')\n",
    "\n",
    "with ExcelFile(r'.\\Input\\ZiptoZcta_Crosswalk_2021.xlsx') as xl :\n",
    "    df = concat([read_excel(xl, sheet_name = s ) for s in xl.sheet_names],\n",
    "                ignore_index= True)\n"
   ]
  },
  {
   "cell_type": "code",
   "execution_count": 185,
   "metadata": {},
   "outputs": [
    {
     "name": "stdout",
     "output_type": "stream",
     "text": [
      "df.ZIP_CODE dtype: int64, with 41107 unique values.\n",
      "df.ZCTA dtype: object, with 33144 unique values.\n"
     ]
    }
   ],
   "source": [
    "df.ZCTA = df.ZCTA.astype('str')\n",
    "\n",
    "print(f'df.ZIP_CODE dtype: {df.ZIP_CODE.dtype}, with {df.ZIP_CODE.nunique()} unique values.')\n",
    "print(f'df.ZCTA dtype: {df.ZCTA.dtype}, with {df.ZCTA.nunique()} unique values.')"
   ]
  },
  {
   "cell_type": "code",
   "execution_count": 186,
   "metadata": {},
   "outputs": [],
   "source": [
    "#Check the length of ZCTA codes\n",
    "df['len'] = df.ZCTA.str.len()\n",
    "df['len'].unique() # There are  5, nan and 7 length codes\n",
    "df[df['len'] == 7] # This represent 'No ZCTA' drop\t\n",
    "df.drop(df[df['len'] == 7].index, inplace= True)\n",
    "\n",
    "df.ZCTA = [c if len(c) == 5 else '0'+ c if len(c) == 4 else '00'+c \n",
    "             for c in df.ZCTA]"
   ]
  },
  {
   "cell_type": "code",
   "execution_count": 187,
   "metadata": {},
   "outputs": [
    {
     "name": "stdout",
     "output_type": "stream",
     "text": [
      "df.ZIP_CODE dtype: int64, with 41099 unique values.\n",
      "df.ZCTA dtype: object, with 33139 unique values.\n"
     ]
    }
   ],
   "source": [
    "print(f'df.ZIP_CODE dtype: {df.ZIP_CODE.dtype}, with {df.ZIP_CODE.nunique()} unique values.')\n",
    "print(f'df.ZCTA dtype: {df.ZCTA.dtype}, with {df.ZCTA.nunique()} unique values.')"
   ]
  },
  {
   "cell_type": "code",
   "execution_count": 188,
   "metadata": {},
   "outputs": [
    {
     "name": "stdout",
     "output_type": "stream",
     "text": [
      "ZCTA dtype: object with 33120 unique values\n"
     ]
    }
   ],
   "source": [
    "zctas.ZCTA = zctas.ZCTA.astype('str')\n",
    "print(f'ZCTA dtype: {zctas.ZCTA.dtype} with {zctas.ZCTA.nunique()} unique values')\n",
    "\n",
    "# Convert all ZCTAs to 5 digit\n",
    "zctas.ZCTA = [c if len(c) == 5 else '0'+ c if len(c) == 4 else '00'+c \n",
    "             for c in zctas.ZCTA]\n"
   ]
  },
  {
   "cell_type": "code",
   "execution_count": 189,
   "metadata": {},
   "outputs": [],
   "source": [
    "df = df.iloc[:, [0,2,4]].copy()\n",
    "df = df.drop_duplicates(keep='last')\n",
    "\n",
    "df = df.merge(zctas, how='right', left_on= 'ZCTA', right_on= 'ZCTA')\n"
   ]
  },
  {
   "cell_type": "code",
   "execution_count": 190,
   "metadata": {},
   "outputs": [
    {
     "data": {
      "text/html": [
       "<div>\n",
       "<style scoped>\n",
       "    .dataframe tbody tr th:only-of-type {\n",
       "        vertical-align: middle;\n",
       "    }\n",
       "\n",
       "    .dataframe tbody tr th {\n",
       "        vertical-align: top;\n",
       "    }\n",
       "\n",
       "    .dataframe thead th {\n",
       "        text-align: right;\n",
       "    }\n",
       "</style>\n",
       "<table border=\"1\" class=\"dataframe\">\n",
       "  <thead>\n",
       "    <tr style=\"text-align: right;\">\n",
       "      <th></th>\n",
       "      <th>ZIP_CODE</th>\n",
       "      <th>STATE</th>\n",
       "      <th>ZCTA</th>\n",
       "      <th>Households100to149K</th>\n",
       "      <th>Households150to199K</th>\n",
       "      <th>Households200KorMore</th>\n",
       "      <th>RFM1</th>\n",
       "      <th>RFM2</th>\n",
       "      <th>RFM3</th>\n",
       "    </tr>\n",
       "  </thead>\n",
       "  <tbody>\n",
       "    <tr>\n",
       "      <th>0</th>\n",
       "      <td>35007</td>\n",
       "      <td>AL</td>\n",
       "      <td>35007</td>\n",
       "      <td>2224</td>\n",
       "      <td>473</td>\n",
       "      <td>254</td>\n",
       "      <td>9</td>\n",
       "      <td>8</td>\n",
       "      <td>7</td>\n",
       "    </tr>\n",
       "    <tr>\n",
       "      <th>1</th>\n",
       "      <td>35137</td>\n",
       "      <td>AL</td>\n",
       "      <td>35007</td>\n",
       "      <td>2224</td>\n",
       "      <td>473</td>\n",
       "      <td>254</td>\n",
       "      <td>9</td>\n",
       "      <td>8</td>\n",
       "      <td>7</td>\n",
       "    </tr>\n",
       "    <tr>\n",
       "      <th>2</th>\n",
       "      <td>35144</td>\n",
       "      <td>AL</td>\n",
       "      <td>35007</td>\n",
       "      <td>2224</td>\n",
       "      <td>473</td>\n",
       "      <td>254</td>\n",
       "      <td>9</td>\n",
       "      <td>8</td>\n",
       "      <td>7</td>\n",
       "    </tr>\n",
       "    <tr>\n",
       "      <th>3</th>\n",
       "      <td>35124</td>\n",
       "      <td>AL</td>\n",
       "      <td>35124</td>\n",
       "      <td>2012</td>\n",
       "      <td>809</td>\n",
       "      <td>805</td>\n",
       "      <td>9</td>\n",
       "      <td>8</td>\n",
       "      <td>8</td>\n",
       "    </tr>\n",
       "    <tr>\n",
       "      <th>4</th>\n",
       "      <td>35173</td>\n",
       "      <td>AL</td>\n",
       "      <td>35173</td>\n",
       "      <td>2265</td>\n",
       "      <td>1037</td>\n",
       "      <td>980</td>\n",
       "      <td>9</td>\n",
       "      <td>9</td>\n",
       "      <td>9</td>\n",
       "    </tr>\n",
       "  </tbody>\n",
       "</table>\n",
       "</div>"
      ],
      "text/plain": [
       "  ZIP_CODE STATE   ZCTA  Households100to149K  Households150to199K  \\\n",
       "0    35007    AL  35007                 2224                  473   \n",
       "1    35137    AL  35007                 2224                  473   \n",
       "2    35144    AL  35007                 2224                  473   \n",
       "3    35124    AL  35124                 2012                  809   \n",
       "4    35173    AL  35173                 2265                 1037   \n",
       "\n",
       "   Households200KorMore  RFM1  RFM2  RFM3  \n",
       "0                   254     9     8     7  \n",
       "1                   254     9     8     7  \n",
       "2                   254     9     8     7  \n",
       "3                   805     9     8     8  \n",
       "4                   980     9     9     9  "
      ]
     },
     "execution_count": 190,
     "metadata": {},
     "output_type": "execute_result"
    }
   ],
   "source": [
    "#convert zip_codes to 5-digit str object\n",
    "df.ZIP_CODE = df.ZIP_CODE.astype('Int64') \n",
    "df.drop(df[df.ZIP_CODE.isna()].index, inplace= True) # drop rows with missing zipcodes\n",
    "df.ZIP_CODE = df.ZIP_CODE.astype('str')\n",
    "df.ZIP_CODE = [c if len(c) == 5 else '0'+ c if len(c) == 4 else '00'+c \n",
    "             for c in df.ZIP_CODE]\n",
    "df.head()"
   ]
  },
  {
   "cell_type": "code",
   "execution_count": 191,
   "metadata": {},
   "outputs": [
    {
     "data": {
      "text/html": [
       "<div>\n",
       "<style scoped>\n",
       "    .dataframe tbody tr th:only-of-type {\n",
       "        vertical-align: middle;\n",
       "    }\n",
       "\n",
       "    .dataframe tbody tr th {\n",
       "        vertical-align: top;\n",
       "    }\n",
       "\n",
       "    .dataframe thead th {\n",
       "        text-align: right;\n",
       "    }\n",
       "</style>\n",
       "<table border=\"1\" class=\"dataframe\">\n",
       "  <thead>\n",
       "    <tr style=\"text-align: right;\">\n",
       "      <th></th>\n",
       "      <th>ZIP_CODE</th>\n",
       "      <th>STATE</th>\n",
       "      <th>ZCTA</th>\n",
       "      <th>Households100to149K</th>\n",
       "      <th>Households150to199K</th>\n",
       "      <th>Households200KorMore</th>\n",
       "      <th>RFM1</th>\n",
       "      <th>RFM2</th>\n",
       "      <th>RFM3</th>\n",
       "      <th>RFM_Score</th>\n",
       "      <th>RFM_Group</th>\n",
       "    </tr>\n",
       "  </thead>\n",
       "  <tbody>\n",
       "    <tr>\n",
       "      <th>0</th>\n",
       "      <td>35007</td>\n",
       "      <td>AL</td>\n",
       "      <td>35007</td>\n",
       "      <td>2224</td>\n",
       "      <td>473</td>\n",
       "      <td>254</td>\n",
       "      <td>9</td>\n",
       "      <td>8</td>\n",
       "      <td>7</td>\n",
       "      <td>24</td>\n",
       "      <td>987</td>\n",
       "    </tr>\n",
       "    <tr>\n",
       "      <th>1</th>\n",
       "      <td>35137</td>\n",
       "      <td>AL</td>\n",
       "      <td>35007</td>\n",
       "      <td>2224</td>\n",
       "      <td>473</td>\n",
       "      <td>254</td>\n",
       "      <td>9</td>\n",
       "      <td>8</td>\n",
       "      <td>7</td>\n",
       "      <td>24</td>\n",
       "      <td>987</td>\n",
       "    </tr>\n",
       "    <tr>\n",
       "      <th>2</th>\n",
       "      <td>35144</td>\n",
       "      <td>AL</td>\n",
       "      <td>35007</td>\n",
       "      <td>2224</td>\n",
       "      <td>473</td>\n",
       "      <td>254</td>\n",
       "      <td>9</td>\n",
       "      <td>8</td>\n",
       "      <td>7</td>\n",
       "      <td>24</td>\n",
       "      <td>987</td>\n",
       "    </tr>\n",
       "    <tr>\n",
       "      <th>3</th>\n",
       "      <td>35124</td>\n",
       "      <td>AL</td>\n",
       "      <td>35124</td>\n",
       "      <td>2012</td>\n",
       "      <td>809</td>\n",
       "      <td>805</td>\n",
       "      <td>9</td>\n",
       "      <td>8</td>\n",
       "      <td>8</td>\n",
       "      <td>25</td>\n",
       "      <td>988</td>\n",
       "    </tr>\n",
       "    <tr>\n",
       "      <th>4</th>\n",
       "      <td>35173</td>\n",
       "      <td>AL</td>\n",
       "      <td>35173</td>\n",
       "      <td>2265</td>\n",
       "      <td>1037</td>\n",
       "      <td>980</td>\n",
       "      <td>9</td>\n",
       "      <td>9</td>\n",
       "      <td>9</td>\n",
       "      <td>27</td>\n",
       "      <td>999</td>\n",
       "    </tr>\n",
       "  </tbody>\n",
       "</table>\n",
       "</div>"
      ],
      "text/plain": [
       "  ZIP_CODE STATE   ZCTA  Households100to149K  Households150to199K  \\\n",
       "0    35007    AL  35007                 2224                  473   \n",
       "1    35137    AL  35007                 2224                  473   \n",
       "2    35144    AL  35007                 2224                  473   \n",
       "3    35124    AL  35124                 2012                  809   \n",
       "4    35173    AL  35173                 2265                 1037   \n",
       "\n",
       "   Households200KorMore  RFM1  RFM2  RFM3  RFM_Score RFM_Group  \n",
       "0                   254     9     8     7         24       987  \n",
       "1                   254     9     8     7         24       987  \n",
       "2                   254     9     8     7         24       987  \n",
       "3                   805     9     8     8         25       988  \n",
       "4                   980     9     9     9         27       999  "
      ]
     },
     "execution_count": 191,
     "metadata": {},
     "output_type": "execute_result"
    }
   ],
   "source": [
    "df['RFM_Score'] = df[['RFM1', 'RFM2', 'RFM3']].sum(axis = 1)\n",
    "df['RFM_Group'] = df['RFM1'].map(str) + df['RFM2'].map(str) + df['RFM3'].map(str)\n",
    "df.head()"
   ]
  },
  {
   "cell_type": "code",
   "execution_count": 192,
   "metadata": {},
   "outputs": [
    {
     "data": {
      "text/plain": [
       "(array([ 7271.,  3042.,  3799.,  3492.,  3743.,  4123.,  4780., 10816.]),\n",
       " array([0.   , 1.125, 2.25 , 3.375, 4.5  , 5.625, 6.75 , 7.875, 9.   ]),\n",
       " <BarContainer object of 8 artists>)"
      ]
     },
     "execution_count": 192,
     "metadata": {},
     "output_type": "execute_result"
    },
    {
     "data": {
      "image/png": "[encoded data removed]",
      "text/plain": [
       "<Figure size 1080x288 with 3 Axes>"
      ]
     },
     "metadata": {},
     "output_type": "display_data"
    }
   ],
   "source": [
    "#Distribution of RFM 1, RFM 2 and RFM 3\n",
    "figure, axs = plt.subplots(1, 3,figsize=(15, 4), facecolor='w', edgecolor='k',\n",
    "                             tight_layout=True)\n",
    "\n",
    "axs[0].hist(df.RFM1, bins=10)\n",
    "axs[1].hist(df.RFM2, bins=10)\n",
    "axs[2].hist(df.RFM3, bins=8)\n",
    "\n"
   ]
  },
  {
   "cell_type": "code",
   "execution_count": 193,
   "metadata": {},
   "outputs": [
    {
     "name": "stderr",
     "output_type": "stream",
     "text": [
      "c:\\Users\\DIANA\\Desktop\\E-commerce-RFM-Analysis\\rfm\\lib\\site-packages\\ipykernel_launcher.py:2: FutureWarning: Dropping of nuisance columns in DataFrame reductions (with 'numeric_only=None') is deprecated; in a future version this will raise TypeError.  Select only valid columns before calling the reduction.\n",
      "  \n"
     ]
    },
    {
     "data": {
      "text/plain": [
       "ZIP_CODE                0.069315\n",
       "ZCTA                    0.070028\n",
       "Households100to149K     2.018696\n",
       "Households150to199K     2.743939\n",
       "Households200KorMore    4.431109\n",
       "RFM1                   -0.222285\n",
       "RFM2                   -0.271716\n",
       "RFM3                   -0.291696\n",
       "RFM_Score              -0.189622\n",
       "RFM_Group              -0.211253\n",
       "dtype: float64"
      ]
     },
     "execution_count": 193,
     "metadata": {},
     "output_type": "execute_result"
    }
   ],
   "source": [
    "#Check the skew\n",
    "df.skew()"
   ]
  },
  {
   "cell_type": "code",
   "execution_count": 194,
   "metadata": {},
   "outputs": [
    {
     "data": {
      "text/plain": [
       "(array([ 7271.,  3042.,  3799.,  3492.,  3743.,  4123.,  4780., 10816.]),\n",
       " array([0.   , 1.125, 2.25 , 3.375, 4.5  , 5.625, 6.75 , 7.875, 9.   ]),\n",
       " <BarContainer object of 8 artists>)"
      ]
     },
     "execution_count": 194,
     "metadata": {},
     "output_type": "execute_result"
    },
    {
     "data": {
      "image/png": "[encoded data removed]",
      "text/plain": [
       "<Figure size 1080x288 with 3 Axes>"
      ]
     },
     "metadata": {},
     "output_type": "display_data"
    }
   ],
   "source": [
    "#Perform Log transformation to bring data into normal or near normal distribution\n",
    "log_Tfd_Data = df[['RFM1', 'RFM2', 'RFM3']].apply(lambda x : np.log(x+1), axis = 1).round(3)\n",
    "\n",
    "x = df[['RFM1', 'RFM2', 'RFM3']]\n",
    "figure, axs = plt.subplots(1, 3,figsize=(15, 4), facecolor='w', edgecolor='k',\n",
    "                             tight_layout=True)\n",
    "\n",
    "axs[0].hist(x.RFM1, bins=10)\n",
    "axs[1].hist(x.RFM2, bins=10)\n",
    "axs[2].hist(x.RFM3, bins=8)\n"
   ]
  },
  {
   "cell_type": "code",
   "execution_count": 195,
   "metadata": {},
   "outputs": [
    {
     "data": {
      "image/png": "[encoded data removed]",
      "text/plain": [
       "<Figure size 432x288 with 1 Axes>"
      ]
     },
     "metadata": {},
     "output_type": "display_data"
    }
   ],
   "source": [
    "\n",
    "\n",
    "sum_of_sq_dist = {}\n",
    "for k in range(1,15):\n",
    "    km = KMeans(n_clusters= k, init= 'k-means++', max_iter= 10000)\n",
    "    km = km.fit(x)\n",
    "    sum_of_sq_dist[k] = km.inertia_\n",
    "    \n",
    "#Plot the graph for the sum of square distance values and Number of Clusters\n",
    "sns.pointplot(x = list(sum_of_sq_dist.keys()), y = list(sum_of_sq_dist.values()))\n",
    "plt.xlabel('Number of Clusters(k)')\n",
    "plt.ylabel('Sum of Square Distances')\n",
    "plt.title('Elbow Method For Optimal k')\n",
    "plt.show()"
   ]
  },
  {
   "cell_type": "code",
   "execution_count": 196,
   "metadata": {},
   "outputs": [
    {
     "data": {
      "text/html": [
       "<div>\n",
       "<style scoped>\n",
       "    .dataframe tbody tr th:only-of-type {\n",
       "        vertical-align: middle;\n",
       "    }\n",
       "\n",
       "    .dataframe tbody tr th {\n",
       "        vertical-align: top;\n",
       "    }\n",
       "\n",
       "    .dataframe thead th {\n",
       "        text-align: right;\n",
       "    }\n",
       "</style>\n",
       "<table border=\"1\" class=\"dataframe\">\n",
       "  <thead>\n",
       "    <tr style=\"text-align: right;\">\n",
       "      <th></th>\n",
       "      <th>ZIP_CODE</th>\n",
       "      <th>STATE</th>\n",
       "      <th>ZCTA</th>\n",
       "      <th>Households100to149K</th>\n",
       "      <th>Households150to199K</th>\n",
       "      <th>Households200KorMore</th>\n",
       "      <th>RFM1</th>\n",
       "      <th>RFM2</th>\n",
       "      <th>RFM3</th>\n",
       "      <th>RFM_Score</th>\n",
       "      <th>RFM_Group</th>\n",
       "      <th>Cluster</th>\n",
       "    </tr>\n",
       "  </thead>\n",
       "  <tbody>\n",
       "    <tr>\n",
       "      <th>0</th>\n",
       "      <td>35007</td>\n",
       "      <td>AL</td>\n",
       "      <td>35007</td>\n",
       "      <td>2224</td>\n",
       "      <td>473</td>\n",
       "      <td>254</td>\n",
       "      <td>9</td>\n",
       "      <td>8</td>\n",
       "      <td>7</td>\n",
       "      <td>24</td>\n",
       "      <td>987</td>\n",
       "      <td>0</td>\n",
       "    </tr>\n",
       "    <tr>\n",
       "      <th>1</th>\n",
       "      <td>35137</td>\n",
       "      <td>AL</td>\n",
       "      <td>35007</td>\n",
       "      <td>2224</td>\n",
       "      <td>473</td>\n",
       "      <td>254</td>\n",
       "      <td>9</td>\n",
       "      <td>8</td>\n",
       "      <td>7</td>\n",
       "      <td>24</td>\n",
       "      <td>987</td>\n",
       "      <td>0</td>\n",
       "    </tr>\n",
       "    <tr>\n",
       "      <th>2</th>\n",
       "      <td>35144</td>\n",
       "      <td>AL</td>\n",
       "      <td>35007</td>\n",
       "      <td>2224</td>\n",
       "      <td>473</td>\n",
       "      <td>254</td>\n",
       "      <td>9</td>\n",
       "      <td>8</td>\n",
       "      <td>7</td>\n",
       "      <td>24</td>\n",
       "      <td>987</td>\n",
       "      <td>0</td>\n",
       "    </tr>\n",
       "    <tr>\n",
       "      <th>3</th>\n",
       "      <td>35124</td>\n",
       "      <td>AL</td>\n",
       "      <td>35124</td>\n",
       "      <td>2012</td>\n",
       "      <td>809</td>\n",
       "      <td>805</td>\n",
       "      <td>9</td>\n",
       "      <td>8</td>\n",
       "      <td>8</td>\n",
       "      <td>25</td>\n",
       "      <td>988</td>\n",
       "      <td>0</td>\n",
       "    </tr>\n",
       "    <tr>\n",
       "      <th>4</th>\n",
       "      <td>35173</td>\n",
       "      <td>AL</td>\n",
       "      <td>35173</td>\n",
       "      <td>2265</td>\n",
       "      <td>1037</td>\n",
       "      <td>980</td>\n",
       "      <td>9</td>\n",
       "      <td>9</td>\n",
       "      <td>9</td>\n",
       "      <td>27</td>\n",
       "      <td>999</td>\n",
       "      <td>0</td>\n",
       "    </tr>\n",
       "  </tbody>\n",
       "</table>\n",
       "</div>"
      ],
      "text/plain": [
       "  ZIP_CODE STATE   ZCTA  Households100to149K  Households150to199K  \\\n",
       "0    35007    AL  35007                 2224                  473   \n",
       "1    35137    AL  35007                 2224                  473   \n",
       "2    35144    AL  35007                 2224                  473   \n",
       "3    35124    AL  35124                 2012                  809   \n",
       "4    35173    AL  35173                 2265                 1037   \n",
       "\n",
       "   Households200KorMore  RFM1  RFM2  RFM3  RFM_Score RFM_Group  Cluster  \n",
       "0                   254     9     8     7         24       987        0  \n",
       "1                   254     9     8     7         24       987        0  \n",
       "2                   254     9     8     7         24       987        0  \n",
       "3                   805     9     8     8         25       988        0  \n",
       "4                   980     9     9     9         27       999        0  "
      ]
     },
     "execution_count": 196,
     "metadata": {},
     "output_type": "execute_result"
    }
   ],
   "source": [
    "#Perform K-Mean Clustering or build the K-Means clustering model\n",
    "KMean_clust = KMeans(n_clusters= 5, init= 'k-means++', max_iter= 10000)\n",
    "KMean_clust.fit(x)\n",
    "\n",
    "#Find the clusters for the observation given in the dataset\n",
    "df['Cluster'] = KMean_clust.labels_\n",
    "df.head()"
   ]
  },
  {
   "cell_type": "code",
   "execution_count": 197,
   "metadata": {},
   "outputs": [
    {
     "data": {
      "text/html": [
       "<div>\n",
       "<style scoped>\n",
       "    .dataframe tbody tr th:only-of-type {\n",
       "        vertical-align: middle;\n",
       "    }\n",
       "\n",
       "    .dataframe tbody tr th {\n",
       "        vertical-align: top;\n",
       "    }\n",
       "\n",
       "    .dataframe thead th {\n",
       "        text-align: right;\n",
       "    }\n",
       "</style>\n",
       "<table border=\"1\" class=\"dataframe\">\n",
       "  <thead>\n",
       "    <tr style=\"text-align: right;\">\n",
       "      <th></th>\n",
       "      <th>ZIP_CODE</th>\n",
       "      <th>STATE</th>\n",
       "      <th>ZCTA</th>\n",
       "      <th>Households100to149K</th>\n",
       "      <th>Households150to199K</th>\n",
       "      <th>Households200KorMore</th>\n",
       "      <th>RFM1</th>\n",
       "      <th>RFM2</th>\n",
       "      <th>RFM3</th>\n",
       "      <th>RFM_Score</th>\n",
       "      <th>RFM_Group</th>\n",
       "      <th>Cluster</th>\n",
       "      <th>Status</th>\n",
       "    </tr>\n",
       "  </thead>\n",
       "  <tbody>\n",
       "    <tr>\n",
       "      <th>0</th>\n",
       "      <td>35007</td>\n",
       "      <td>AL</td>\n",
       "      <td>35007</td>\n",
       "      <td>2224</td>\n",
       "      <td>473</td>\n",
       "      <td>254</td>\n",
       "      <td>9</td>\n",
       "      <td>8</td>\n",
       "      <td>7</td>\n",
       "      <td>24</td>\n",
       "      <td>987</td>\n",
       "      <td>0</td>\n",
       "      <td>upper</td>\n",
       "    </tr>\n",
       "    <tr>\n",
       "      <th>1</th>\n",
       "      <td>35137</td>\n",
       "      <td>AL</td>\n",
       "      <td>35007</td>\n",
       "      <td>2224</td>\n",
       "      <td>473</td>\n",
       "      <td>254</td>\n",
       "      <td>9</td>\n",
       "      <td>8</td>\n",
       "      <td>7</td>\n",
       "      <td>24</td>\n",
       "      <td>987</td>\n",
       "      <td>0</td>\n",
       "      <td>upper</td>\n",
       "    </tr>\n",
       "    <tr>\n",
       "      <th>2</th>\n",
       "      <td>35144</td>\n",
       "      <td>AL</td>\n",
       "      <td>35007</td>\n",
       "      <td>2224</td>\n",
       "      <td>473</td>\n",
       "      <td>254</td>\n",
       "      <td>9</td>\n",
       "      <td>8</td>\n",
       "      <td>7</td>\n",
       "      <td>24</td>\n",
       "      <td>987</td>\n",
       "      <td>0</td>\n",
       "      <td>upper</td>\n",
       "    </tr>\n",
       "    <tr>\n",
       "      <th>3</th>\n",
       "      <td>35124</td>\n",
       "      <td>AL</td>\n",
       "      <td>35124</td>\n",
       "      <td>2012</td>\n",
       "      <td>809</td>\n",
       "      <td>805</td>\n",
       "      <td>9</td>\n",
       "      <td>8</td>\n",
       "      <td>8</td>\n",
       "      <td>25</td>\n",
       "      <td>988</td>\n",
       "      <td>0</td>\n",
       "      <td>upper</td>\n",
       "    </tr>\n",
       "    <tr>\n",
       "      <th>4</th>\n",
       "      <td>35173</td>\n",
       "      <td>AL</td>\n",
       "      <td>35173</td>\n",
       "      <td>2265</td>\n",
       "      <td>1037</td>\n",
       "      <td>980</td>\n",
       "      <td>9</td>\n",
       "      <td>9</td>\n",
       "      <td>9</td>\n",
       "      <td>27</td>\n",
       "      <td>999</td>\n",
       "      <td>0</td>\n",
       "      <td>upper</td>\n",
       "    </tr>\n",
       "  </tbody>\n",
       "</table>\n",
       "</div>"
      ],
      "text/plain": [
       "  ZIP_CODE STATE   ZCTA  Households100to149K  Households150to199K  \\\n",
       "0    35007    AL  35007                 2224                  473   \n",
       "1    35137    AL  35007                 2224                  473   \n",
       "2    35144    AL  35007                 2224                  473   \n",
       "3    35124    AL  35124                 2012                  809   \n",
       "4    35173    AL  35173                 2265                 1037   \n",
       "\n",
       "   Households200KorMore  RFM1  RFM2  RFM3  RFM_Score RFM_Group  Cluster Status  \n",
       "0                   254     9     8     7         24       987        0  upper  \n",
       "1                   254     9     8     7         24       987        0  upper  \n",
       "2                   254     9     8     7         24       987        0  upper  \n",
       "3                   805     9     8     8         25       988        0  upper  \n",
       "4                   980     9     9     9         27       999        0  upper  "
      ]
     },
     "execution_count": 197,
     "metadata": {},
     "output_type": "execute_result"
    }
   ],
   "source": [
    "#Map clusters to status labels\n",
    "class_dict = {0: 'upper', 1: 'upper_middle', 2: 'middle', 3: 'working', 4: 'lower'}\n",
    "df['Status'] = df.Cluster.map(class_dict)\n",
    "df.head()"
   ]
  },
  {
   "cell_type": "code",
   "execution_count": 198,
   "metadata": {},
   "outputs": [
    {
     "data": {
      "image/png": "[encoded data removed]",
      "text/plain": [
       "<Figure size 432x288 with 1 Axes>"
      ]
     },
     "metadata": {},
     "output_type": "display_data"
    },
    {
     "data": {
      "text/plain": [
       "Status\n",
       "lower            7215\n",
       "middle           8494\n",
       "upper           10830\n",
       "upper_middle     7489\n",
       "working          7038\n",
       "Name: Cluster, dtype: int64"
      ]
     },
     "execution_count": 198,
     "metadata": {},
     "output_type": "execute_result"
    }
   ],
   "source": [
    "#Treemap: Distribution of clusters\n",
    "labels = ['upper', 'upper-middle', 'middle', 'working', 'lower']\n",
    "color = ['red', 'green', 'blue', 'orange', 'yellow']\n",
    "df_classes = df.groupby('Status')['Cluster'].count()\n",
    "\n",
    "squarify.plot(df_classes.values,\n",
    "              color=color, label= labels, pad = True)\n",
    "plt.axis('off')\n",
    "plt.show()\n",
    "df_classes"
   ]
  },
  {
   "cell_type": "code",
   "execution_count": null,
   "metadata": {},
   "outputs": [],
   "source": []
  }
 ],
 "metadata": {
  "interpreter": {
   "hash": "482d3cca6a079f04d1053b1594e933c48c12aeb567716e8f07273460d776cf42"
  },
  "kernelspec": {
   "display_name": "Python 3.7.10 64-bit ('basic_ds': conda)",
   "language": "python",
   "name": "python3"
  },
  "language_info": {
   "codemirror_mode": {
    "name": "ipython",
    "version": 3
   },
   "file_extension": ".py",
   "mimetype": "text/x-python",
   "name": "python",
   "nbconvert_exporter": "python",
   "pygments_lexer": "ipython3",
   "version": "3.7.10"
  },
  "orig_nbformat": 4
 },
 "nbformat": 4,
 "nbformat_minor": 2
}
