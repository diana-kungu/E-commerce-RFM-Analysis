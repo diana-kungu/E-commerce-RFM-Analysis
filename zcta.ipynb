{
 "cells": [
  {
   "cell_type": "code",
   "execution_count": 83,
   "metadata": {},
   "outputs": [],
   "source": [
    "''' 1. Zipcodes to ZCTAs mapping\n",
    "This script maps every US zipcode to its corresponding ZCTA as mapped\n",
    "by US Bureau of Statistics\n",
    "\n",
    "2. Socio-economic classification of Zipcodes/ZCTAs\n",
    "using K-Means Clustering Algorithm by household income\n",
    "''' \n",
    "# Authour Diana Kung'u\n",
    "\n",
    "from pandas import read_csv, merge, read_excel, ExcelFile, concat\n",
    "import numpy as np\n",
    "\n",
    "from sklearn.cluster import KMeans\n",
    "\n",
    "import matplotlib.pyplot as plt\n",
    "import seaborn as sns\n",
    "sns.set(style='white')\n",
    "import  squarify # Treemap\n",
    "\n",
    "import warnings\n",
    "warnings.simplefilter(action='ignore', category=FutureWarning)"
   ]
  },
  {
   "cell_type": "code",
   "execution_count": 84,
   "metadata": {},
   "outputs": [],
   "source": [
    "#Read Data\n",
    "#zctas dataframe with household income\n",
    "zctas = read_csv('.\\Input\\ZCTA_Household_income.csv') \n",
    "\n",
    "# zipcode - zcta mapping dataframe\n",
    "with ExcelFile(r'.\\Input\\ZiptoZcta_Crosswalk_2021.xlsx') as xl :\n",
    "    df = concat([read_excel(xl, sheet_name = s ) for s in xl.sheet_names],\n",
    "                ignore_index= True)\n"
   ]
  },
  {
   "cell_type": "markdown",
   "metadata": {},
   "source": [
    "##### Data pre-processing."
   ]
  },
  {
   "cell_type": "code",
   "execution_count": 85,
   "metadata": {},
   "outputs": [
    {
     "name": "stdout",
     "output_type": "stream",
     "text": [
      "df.ZIP_CODE dtype: int64, with 41107 unique values.\n",
      "df.ZCTA dtype: object, with 33144 unique values.\n"
     ]
    }
   ],
   "source": [
    "df.ZCTA = df.ZCTA.astype('str') #Convert ZCTA from int to string\n",
    "\n",
    "print(f'df.ZIP_CODE dtype: {df.ZIP_CODE.dtype}, with {df.ZIP_CODE.nunique()} unique values.')\n",
    "print(f'df.ZCTA dtype: {df.ZCTA.dtype}, with {df.ZCTA.nunique()} unique values.')"
   ]
  },
  {
   "cell_type": "code",
   "execution_count": 86,
   "metadata": {},
   "outputs": [
    {
     "name": "stdout",
     "output_type": "stream",
     "text": [
      "df.ZIP_CODE dtype: int64, with 41099 unique values.\n",
      "df.ZCTA dtype: object, with 33139 unique values.\n"
     ]
    }
   ],
   "source": [
    "#Check the length of ZCTA codes\n",
    "df['len'] = df.ZCTA.str.len()\n",
    "df['len'].unique() # There are  3,5 and 7 character long ZCTAs codes\n",
    "df[df['len'] == 7] # This represent 'No ZCTA' ZCTA (drop)\t\n",
    "df.drop(df[df['len'] == 7].index, inplace= True)\n",
    "\n",
    "#Add leading 0s to ZCTAs of len 3 or 4\n",
    "df.ZCTA = [c if len(c) == 5 else '0'+ c if len(c) == 4 else '00'+c \n",
    "            for c in df.ZCTA]\n",
    "\n",
    "print(f'df.ZIP_CODE dtype: {df.ZIP_CODE.dtype}, with {df.ZIP_CODE.nunique()} unique values.')\n",
    "print(f'df.ZCTA dtype: {df.ZCTA.dtype}, with {df.ZCTA.nunique()} unique values.')"
   ]
  },
  {
   "cell_type": "code",
   "execution_count": 87,
   "metadata": {},
   "outputs": [
    {
     "name": "stdout",
     "output_type": "stream",
     "text": [
      "ZCTA dtype: object with 33120 unique values\n"
     ]
    }
   ],
   "source": [
    "zctas.ZCTA = zctas.ZCTA.astype('str')\n",
    "print(f'ZCTA dtype: {zctas.ZCTA.dtype} with {zctas.ZCTA.nunique()} unique values')\n",
    "\n",
    "# Convert all ZCTAs to 5 digit\n",
    "zctas.ZCTA = [c if len(c) == 5 else '0'+ c if len(c) == 4 else '00'+c \n",
    "             for c in zctas.ZCTA]\n"
   ]
  },
  {
   "cell_type": "code",
   "execution_count": 88,
   "metadata": {},
   "outputs": [],
   "source": [
    "#Merge zctas and df: zipcode_zctas codes mapping dataframe\n",
    "df = df.iloc[:, [0,2,4]].copy()\n",
    "df = df.drop_duplicates(keep='last')\n",
    "\n",
    "df = df.merge(zctas, how='right', left_on= 'ZCTA', right_on= 'ZCTA')"
   ]
  },
  {
   "cell_type": "code",
   "execution_count": 89,
   "metadata": {},
   "outputs": [
    {
     "data": {
      "text/html": [
       "<div>\n",
       "<style scoped>\n",
       "    .dataframe tbody tr th:only-of-type {\n",
       "        vertical-align: middle;\n",
       "    }\n",
       "\n",
       "    .dataframe tbody tr th {\n",
       "        vertical-align: top;\n",
       "    }\n",
       "\n",
       "    .dataframe thead th {\n",
       "        text-align: right;\n",
       "    }\n",
       "</style>\n",
       "<table border=\"1\" class=\"dataframe\">\n",
       "  <thead>\n",
       "    <tr style=\"text-align: right;\">\n",
       "      <th></th>\n",
       "      <th>ZIP_CODE</th>\n",
       "      <th>STATE</th>\n",
       "      <th>ZCTA</th>\n",
       "      <th>Households100to149K</th>\n",
       "      <th>Households150to199K</th>\n",
       "      <th>Households200KorMore</th>\n",
       "      <th>RFM1</th>\n",
       "      <th>RFM2</th>\n",
       "      <th>RFM3</th>\n",
       "    </tr>\n",
       "  </thead>\n",
       "  <tbody>\n",
       "    <tr>\n",
       "      <th>0</th>\n",
       "      <td>35007</td>\n",
       "      <td>AL</td>\n",
       "      <td>35007</td>\n",
       "      <td>2224</td>\n",
       "      <td>473</td>\n",
       "      <td>254</td>\n",
       "      <td>9</td>\n",
       "      <td>8</td>\n",
       "      <td>7</td>\n",
       "    </tr>\n",
       "    <tr>\n",
       "      <th>1</th>\n",
       "      <td>35137</td>\n",
       "      <td>AL</td>\n",
       "      <td>35007</td>\n",
       "      <td>2224</td>\n",
       "      <td>473</td>\n",
       "      <td>254</td>\n",
       "      <td>9</td>\n",
       "      <td>8</td>\n",
       "      <td>7</td>\n",
       "    </tr>\n",
       "    <tr>\n",
       "      <th>2</th>\n",
       "      <td>35144</td>\n",
       "      <td>AL</td>\n",
       "      <td>35007</td>\n",
       "      <td>2224</td>\n",
       "      <td>473</td>\n",
       "      <td>254</td>\n",
       "      <td>9</td>\n",
       "      <td>8</td>\n",
       "      <td>7</td>\n",
       "    </tr>\n",
       "  </tbody>\n",
       "</table>\n",
       "</div>"
      ],
      "text/plain": [
       "  ZIP_CODE STATE   ZCTA  Households100to149K  Households150to199K  \\\n",
       "0    35007    AL  35007                 2224                  473   \n",
       "1    35137    AL  35007                 2224                  473   \n",
       "2    35144    AL  35007                 2224                  473   \n",
       "\n",
       "   Households200KorMore  RFM1  RFM2  RFM3  \n",
       "0                   254     9     8     7  \n",
       "1                   254     9     8     7  \n",
       "2                   254     9     8     7  "
      ]
     },
     "execution_count": 89,
     "metadata": {},
     "output_type": "execute_result"
    }
   ],
   "source": [
    "#convert zip_codes to 5-digit str object\n",
    "df.ZIP_CODE = df.ZIP_CODE.astype('Int64') \n",
    "df.drop(df[df.ZIP_CODE.isna()].index, inplace= True) # drop rows with missing zipcodes\n",
    "df.ZIP_CODE = df.ZIP_CODE.astype('str')\n",
    "df.ZIP_CODE = [c if len(c) == 5 else '0'+ c if len(c) == 4 else '00'+c \n",
    "             for c in df.ZIP_CODE]\n",
    "df.head(3)"
   ]
  },
  {
   "cell_type": "markdown",
   "metadata": {},
   "source": [
    "#### K-Means Classification"
   ]
  },
  {
   "cell_type": "code",
   "execution_count": 90,
   "metadata": {},
   "outputs": [
    {
     "data": {
      "image/png": "[encoded data removed]",
      "text/plain": [
       "<Figure size 1080x288 with 3 Axes>"
      ]
     },
     "metadata": {},
     "output_type": "display_data"
    }
   ],
   "source": [
    "#Distribution of RFM 1, RFM 2 and RFM 3\n",
    "figure, axs = plt.subplots(1, 3,figsize=(15, 4), facecolor='w', edgecolor='k',\n",
    "                            sharey= True, tight_layout=True)\n",
    "\n",
    "axs[0].hist(df.RFM1, bins=10)\n",
    "axs[1].hist(df.RFM2, bins=10)\n",
    "axs[2].hist(df.RFM3, bins=10)\n",
    "plt.suptitle('Distribution of Households Income')\n",
    "figure.text(0.5, 0.04, \"x\", ha = 'center')\n",
    "figure.text(0.0, 0.5, \"'No. of households'\", va = 'center', rotation = 'vertical')\n",
    "\n",
    "income_labels = ['100 to 149K', '150 to 199K', '200K or More']\n",
    "for i in range(3):\n",
    "    plt.subplot(1, 3, i+1).set_title(f'Households with {income_labels[i]}')\n"
   ]
  },
  {
   "cell_type": "code",
   "execution_count": 91,
   "metadata": {},
   "outputs": [
    {
     "data": {
      "text/plain": [
       "ZIP_CODE                0.069315\n",
       "ZCTA                    0.070028\n",
       "Households100to149K     2.018696\n",
       "Households150to199K     2.743939\n",
       "Households200KorMore    4.431109\n",
       "RFM1                   -0.222285\n",
       "RFM2                   -0.271716\n",
       "RFM3                   -0.291696\n",
       "dtype: float64"
      ]
     },
     "execution_count": 91,
     "metadata": {},
     "output_type": "execute_result"
    }
   ],
   "source": [
    "#Check the skew\n",
    "df.skew()\n",
    "#RFM1, RFM2, RFM3 are fairly neautral"
   ]
  },
  {
   "cell_type": "markdown",
   "metadata": {},
   "source": [
    "##### Find number of clusters with Elbow Method."
   ]
  },
  {
   "cell_type": "code",
   "execution_count": 92,
   "metadata": {},
   "outputs": [
    {
     "data": {
      "image/png": "[encoded data removed]",
      "text/plain": [
       "<Figure size 432x288 with 1 Axes>"
      ]
     },
     "metadata": {},
     "output_type": "display_data"
    }
   ],
   "source": [
    "scaled_data = df[['RFM1', 'RFM2', 'RFM3']]\n",
    "\n",
    "sum_of_sq_dist = {} # Sum of squared errors\n",
    "for k in range(1,15):\n",
    "    km = KMeans(n_clusters= k, init= 'k-means++', max_iter= 1000)\n",
    "    km = km.fit(scaled_data)\n",
    "    sum_of_sq_dist[k] = km.inertia_\n",
    "    \n",
    "#Plot the graph for the sum of square distance values and Number of Clusters\n",
    "sns.pointplot(x = list(sum_of_sq_dist.keys()), y = list(sum_of_sq_dist.values()))\n",
    "plt.xlabel('Number of Clusters(k)')\n",
    "plt.ylabel('Sum of Square Distances')\n",
    "plt.title('Elbow Method For Optimal k')\n",
    "plt.show()"
   ]
  },
  {
   "cell_type": "code",
   "execution_count": 93,
   "metadata": {},
   "outputs": [
    {
     "data": {
      "text/html": [
       "<div>\n",
       "<style scoped>\n",
       "    .dataframe tbody tr th:only-of-type {\n",
       "        vertical-align: middle;\n",
       "    }\n",
       "\n",
       "    .dataframe tbody tr th {\n",
       "        vertical-align: top;\n",
       "    }\n",
       "\n",
       "    .dataframe thead th {\n",
       "        text-align: right;\n",
       "    }\n",
       "</style>\n",
       "<table border=\"1\" class=\"dataframe\">\n",
       "  <thead>\n",
       "    <tr style=\"text-align: right;\">\n",
       "      <th></th>\n",
       "      <th>ZIP_CODE</th>\n",
       "      <th>STATE</th>\n",
       "      <th>ZCTA</th>\n",
       "      <th>Households100to149K</th>\n",
       "      <th>Households150to199K</th>\n",
       "      <th>Households200KorMore</th>\n",
       "      <th>RFM1</th>\n",
       "      <th>RFM2</th>\n",
       "      <th>RFM3</th>\n",
       "      <th>Cluster</th>\n",
       "    </tr>\n",
       "  </thead>\n",
       "  <tbody>\n",
       "    <tr>\n",
       "      <th>0</th>\n",
       "      <td>35007</td>\n",
       "      <td>AL</td>\n",
       "      <td>35007</td>\n",
       "      <td>2224</td>\n",
       "      <td>473</td>\n",
       "      <td>254</td>\n",
       "      <td>9</td>\n",
       "      <td>8</td>\n",
       "      <td>7</td>\n",
       "      <td>1</td>\n",
       "    </tr>\n",
       "    <tr>\n",
       "      <th>1</th>\n",
       "      <td>35137</td>\n",
       "      <td>AL</td>\n",
       "      <td>35007</td>\n",
       "      <td>2224</td>\n",
       "      <td>473</td>\n",
       "      <td>254</td>\n",
       "      <td>9</td>\n",
       "      <td>8</td>\n",
       "      <td>7</td>\n",
       "      <td>1</td>\n",
       "    </tr>\n",
       "    <tr>\n",
       "      <th>2</th>\n",
       "      <td>35144</td>\n",
       "      <td>AL</td>\n",
       "      <td>35007</td>\n",
       "      <td>2224</td>\n",
       "      <td>473</td>\n",
       "      <td>254</td>\n",
       "      <td>9</td>\n",
       "      <td>8</td>\n",
       "      <td>7</td>\n",
       "      <td>1</td>\n",
       "    </tr>\n",
       "    <tr>\n",
       "      <th>3</th>\n",
       "      <td>35124</td>\n",
       "      <td>AL</td>\n",
       "      <td>35124</td>\n",
       "      <td>2012</td>\n",
       "      <td>809</td>\n",
       "      <td>805</td>\n",
       "      <td>9</td>\n",
       "      <td>8</td>\n",
       "      <td>8</td>\n",
       "      <td>1</td>\n",
       "    </tr>\n",
       "    <tr>\n",
       "      <th>4</th>\n",
       "      <td>35173</td>\n",
       "      <td>AL</td>\n",
       "      <td>35173</td>\n",
       "      <td>2265</td>\n",
       "      <td>1037</td>\n",
       "      <td>980</td>\n",
       "      <td>9</td>\n",
       "      <td>9</td>\n",
       "      <td>9</td>\n",
       "      <td>1</td>\n",
       "    </tr>\n",
       "  </tbody>\n",
       "</table>\n",
       "</div>"
      ],
      "text/plain": [
       "  ZIP_CODE STATE   ZCTA  Households100to149K  Households150to199K  \\\n",
       "0    35007    AL  35007                 2224                  473   \n",
       "1    35137    AL  35007                 2224                  473   \n",
       "2    35144    AL  35007                 2224                  473   \n",
       "3    35124    AL  35124                 2012                  809   \n",
       "4    35173    AL  35173                 2265                 1037   \n",
       "\n",
       "   Households200KorMore  RFM1  RFM2  RFM3  Cluster  \n",
       "0                   254     9     8     7        1  \n",
       "1                   254     9     8     7        1  \n",
       "2                   254     9     8     7        1  \n",
       "3                   805     9     8     8        1  \n",
       "4                   980     9     9     9        1  "
      ]
     },
     "execution_count": 93,
     "metadata": {},
     "output_type": "execute_result"
    }
   ],
   "source": [
    "#Perform K-Mean Clustering or build the K-Means clustering model\n",
    "KMean_clust = KMeans(n_clusters= 3, init= 'k-means++', max_iter= 5000)\n",
    "KMean_clust.fit(scaled_data)\n",
    "\n",
    "#Find the clusters for the observation given in the dataset\n",
    "df['Cluster'] = KMean_clust.labels_\n",
    "df.head()"
   ]
  },
  {
   "cell_type": "code",
   "execution_count": 94,
   "metadata": {},
   "outputs": [
    {
     "data": {
      "text/html": [
       "<div>\n",
       "<style scoped>\n",
       "    .dataframe tbody tr th:only-of-type {\n",
       "        vertical-align: middle;\n",
       "    }\n",
       "\n",
       "    .dataframe tbody tr th {\n",
       "        vertical-align: top;\n",
       "    }\n",
       "\n",
       "    .dataframe thead th {\n",
       "        text-align: right;\n",
       "    }\n",
       "</style>\n",
       "<table border=\"1\" class=\"dataframe\">\n",
       "  <thead>\n",
       "    <tr style=\"text-align: right;\">\n",
       "      <th></th>\n",
       "      <th>ZIP_CODE</th>\n",
       "      <th>STATE</th>\n",
       "      <th>ZCTA</th>\n",
       "      <th>Households100to149K</th>\n",
       "      <th>Households150to199K</th>\n",
       "      <th>Households200KorMore</th>\n",
       "      <th>RFM1</th>\n",
       "      <th>RFM2</th>\n",
       "      <th>RFM3</th>\n",
       "      <th>Cluster</th>\n",
       "      <th>Status</th>\n",
       "    </tr>\n",
       "  </thead>\n",
       "  <tbody>\n",
       "    <tr>\n",
       "      <th>0</th>\n",
       "      <td>35007</td>\n",
       "      <td>AL</td>\n",
       "      <td>35007</td>\n",
       "      <td>2224</td>\n",
       "      <td>473</td>\n",
       "      <td>254</td>\n",
       "      <td>9</td>\n",
       "      <td>8</td>\n",
       "      <td>7</td>\n",
       "      <td>1</td>\n",
       "      <td>middle</td>\n",
       "    </tr>\n",
       "    <tr>\n",
       "      <th>1</th>\n",
       "      <td>35137</td>\n",
       "      <td>AL</td>\n",
       "      <td>35007</td>\n",
       "      <td>2224</td>\n",
       "      <td>473</td>\n",
       "      <td>254</td>\n",
       "      <td>9</td>\n",
       "      <td>8</td>\n",
       "      <td>7</td>\n",
       "      <td>1</td>\n",
       "      <td>middle</td>\n",
       "    </tr>\n",
       "    <tr>\n",
       "      <th>2</th>\n",
       "      <td>35144</td>\n",
       "      <td>AL</td>\n",
       "      <td>35007</td>\n",
       "      <td>2224</td>\n",
       "      <td>473</td>\n",
       "      <td>254</td>\n",
       "      <td>9</td>\n",
       "      <td>8</td>\n",
       "      <td>7</td>\n",
       "      <td>1</td>\n",
       "      <td>middle</td>\n",
       "    </tr>\n",
       "    <tr>\n",
       "      <th>3</th>\n",
       "      <td>35124</td>\n",
       "      <td>AL</td>\n",
       "      <td>35124</td>\n",
       "      <td>2012</td>\n",
       "      <td>809</td>\n",
       "      <td>805</td>\n",
       "      <td>9</td>\n",
       "      <td>8</td>\n",
       "      <td>8</td>\n",
       "      <td>1</td>\n",
       "      <td>middle</td>\n",
       "    </tr>\n",
       "    <tr>\n",
       "      <th>4</th>\n",
       "      <td>35173</td>\n",
       "      <td>AL</td>\n",
       "      <td>35173</td>\n",
       "      <td>2265</td>\n",
       "      <td>1037</td>\n",
       "      <td>980</td>\n",
       "      <td>9</td>\n",
       "      <td>9</td>\n",
       "      <td>9</td>\n",
       "      <td>1</td>\n",
       "      <td>middle</td>\n",
       "    </tr>\n",
       "  </tbody>\n",
       "</table>\n",
       "</div>"
      ],
      "text/plain": [
       "  ZIP_CODE STATE   ZCTA  Households100to149K  Households150to199K  \\\n",
       "0    35007    AL  35007                 2224                  473   \n",
       "1    35137    AL  35007                 2224                  473   \n",
       "2    35144    AL  35007                 2224                  473   \n",
       "3    35124    AL  35124                 2012                  809   \n",
       "4    35173    AL  35173                 2265                 1037   \n",
       "\n",
       "   Households200KorMore  RFM1  RFM2  RFM3  Cluster  Status  \n",
       "0                   254     9     8     7        1  middle  \n",
       "1                   254     9     8     7        1  middle  \n",
       "2                   254     9     8     7        1  middle  \n",
       "3                   805     9     8     8        1  middle  \n",
       "4                   980     9     9     9        1  middle  "
      ]
     },
     "execution_count": 94,
     "metadata": {},
     "output_type": "execute_result"
    }
   ],
   "source": [
    "#Map clusters to status labels\n",
    "class_dict = {0: 'upper', 1: 'middle', 2: 'lower'}\n",
    "df['Status'] = df.Cluster.map(class_dict)\n",
    "df.head()"
   ]
  },
  {
   "cell_type": "code",
   "execution_count": 95,
   "metadata": {},
   "outputs": [
    {
     "data": {
      "image/png": "[encoded data removed]",
      "text/plain": [
       "<Figure size 432x288 with 1 Axes>"
      ]
     },
     "metadata": {},
     "output_type": "display_data"
    },
    {
     "data": {
      "text/plain": [
       "Status\n",
       "lower     12134\n",
       "middle    16862\n",
       "upper     12070\n",
       "Name: Cluster, dtype: int64"
      ]
     },
     "execution_count": 95,
     "metadata": {},
     "output_type": "execute_result"
    }
   ],
   "source": [
    "#Treemap: Distribution of clusters\n",
    "labels = ['upper', 'middle',  'lower']\n",
    "color = ['red', 'green', 'blue', ]\n",
    "df_classes = df.groupby('Status')['Cluster'].count()\n",
    "\n",
    "squarify.plot(df_classes.values,\n",
    "              color=color, label= labels, pad = True)\n",
    "plt.title('Social Status Distribution by ZCTAs')\n",
    "plt.axis('off')\n",
    "plt.show()\n",
    "df_classes"
   ]
  },
  {
   "cell_type": "code",
   "execution_count": 97,
   "metadata": {},
   "outputs": [],
   "source": [
    "cols = ['ZIP_CODE', 'ZCTA', 'STATE', 'Status']\n",
    "df.to_csv('zipcodes_zcta_classified.csv', index = False, columns=cols)"
   ]
  }
 ],
 "metadata": {
  "interpreter": {
   "hash": "482d3cca6a079f04d1053b1594e933c48c12aeb567716e8f07273460d776cf42"
  },
  "kernelspec": {
   "display_name": "Python 3.7.10 64-bit ('basic_ds': conda)",
   "language": "python",
   "name": "python3"
  },
  "language_info": {
   "codemirror_mode": {
    "name": "ipython",
    "version": 3
   },
   "file_extension": ".py",
   "mimetype": "text/x-python",
   "name": "python",
   "nbconvert_exporter": "python",
   "pygments_lexer": "ipython3",
   "version": "3.7.10"
  },
  "orig_nbformat": 4
 },
 "nbformat": 4,
 "nbformat_minor": 2
}
