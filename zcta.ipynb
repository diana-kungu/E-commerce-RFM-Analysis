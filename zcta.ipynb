{
 "cells": [
  {
   "cell_type": "code",
   "execution_count": 217,
   "metadata": {},
   "outputs": [],
   "source": [
    "# Zipcodes to ZCTAs mapping\n",
    "# Socio-economic KNN classification\n",
    "\n",
    "from pandas import read_csv, merge, read_excel, ExcelFile, concat\n",
    "\n"
   ]
  },
  {
   "cell_type": "code",
   "execution_count": 218,
   "metadata": {},
   "outputs": [],
   "source": [
    "#Read Data\n",
    "zctas = read_csv('.\\Input\\ZCTA_Household_income.csv')\n",
    "\n",
    "with ExcelFile(r'.\\Input\\ZiptoZcta_Crosswalk_2021.xlsx') as xl :\n",
    "    df = concat([read_excel(xl, sheet_name = s ) for s in xl.sheet_names],\n",
    "                ignore_index= True)\n"
   ]
  },
  {
   "cell_type": "code",
   "execution_count": 219,
   "metadata": {},
   "outputs": [
    {
     "name": "stdout",
     "output_type": "stream",
     "text": [
      "df.ZIP_CODE dtype: int64, with 41107 unique values.\n",
      "df.ZCTA dtype: object, with 33144 unique values.\n"
     ]
    }
   ],
   "source": [
    "df.ZCTA = df.ZCTA.astype('str')\n",
    "\n",
    "print(f'df.ZIP_CODE dtype: {df.ZIP_CODE.dtype}, with {df.ZIP_CODE.nunique()} unique values.')\n",
    "print(f'df.ZCTA dtype: {df.ZCTA.dtype}, with {df.ZCTA.nunique()} unique values.')"
   ]
  },
  {
   "cell_type": "code",
   "execution_count": 220,
   "metadata": {},
   "outputs": [],
   "source": [
    "#Check the length of ZCTA codes\n",
    "df['len'] = df.ZCTA.str.len()\n",
    "df['len'].unique() # There are  5, nan and 7 length codes\n",
    "df[df['len'] == 7] # This represent 'No ZCTA' drop\t\n",
    "df.drop(df[df['len'] == 7].index, inplace= True)\n",
    "\n",
    "df.ZCTA = [c if len(c) == 5 else '0'+ c if len(c) == 4 else '00'+c \n",
    "             for c in df.ZCTA]"
   ]
  },
  {
   "cell_type": "code",
   "execution_count": 221,
   "metadata": {},
   "outputs": [
    {
     "name": "stdout",
     "output_type": "stream",
     "text": [
      "df.ZIP_CODE dtype: int64, with 41099 unique values.\n",
      "df.ZCTA dtype: object, with 33139 unique values.\n"
     ]
    }
   ],
   "source": [
    "print(f'df.ZIP_CODE dtype: {df.ZIP_CODE.dtype}, with {df.ZIP_CODE.nunique()} unique values.')\n",
    "print(f'df.ZCTA dtype: {df.ZCTA.dtype}, with {df.ZCTA.nunique()} unique values.')"
   ]
  },
  {
   "cell_type": "code",
   "execution_count": 222,
   "metadata": {},
   "outputs": [
    {
     "data": {
      "text/html": [
       "<div>\n",
       "<style scoped>\n",
       "    .dataframe tbody tr th:only-of-type {\n",
       "        vertical-align: middle;\n",
       "    }\n",
       "\n",
       "    .dataframe tbody tr th {\n",
       "        vertical-align: top;\n",
       "    }\n",
       "\n",
       "    .dataframe thead th {\n",
       "        text-align: right;\n",
       "    }\n",
       "</style>\n",
       "<table border=\"1\" class=\"dataframe\">\n",
       "  <thead>\n",
       "    <tr style=\"text-align: right;\">\n",
       "      <th></th>\n",
       "      <th>ZCTA</th>\n",
       "      <th>Households100to149K</th>\n",
       "      <th>Households150to199K</th>\n",
       "      <th>Households200KorMore</th>\n",
       "      <th>RFM1</th>\n",
       "      <th>RFM2</th>\n",
       "      <th>RFM3</th>\n",
       "    </tr>\n",
       "  </thead>\n",
       "  <tbody>\n",
       "    <tr>\n",
       "      <th>0</th>\n",
       "      <td>35007</td>\n",
       "      <td>2224</td>\n",
       "      <td>473</td>\n",
       "      <td>254</td>\n",
       "      <td>9</td>\n",
       "      <td>8</td>\n",
       "      <td>7</td>\n",
       "    </tr>\n",
       "    <tr>\n",
       "      <th>1</th>\n",
       "      <td>35124</td>\n",
       "      <td>2012</td>\n",
       "      <td>809</td>\n",
       "      <td>805</td>\n",
       "      <td>9</td>\n",
       "      <td>8</td>\n",
       "      <td>8</td>\n",
       "    </tr>\n",
       "    <tr>\n",
       "      <th>2</th>\n",
       "      <td>35173</td>\n",
       "      <td>2265</td>\n",
       "      <td>1037</td>\n",
       "      <td>980</td>\n",
       "      <td>9</td>\n",
       "      <td>9</td>\n",
       "      <td>9</td>\n",
       "    </tr>\n",
       "    <tr>\n",
       "      <th>3</th>\n",
       "      <td>35215</td>\n",
       "      <td>1896</td>\n",
       "      <td>434</td>\n",
       "      <td>264</td>\n",
       "      <td>9</td>\n",
       "      <td>8</td>\n",
       "      <td>7</td>\n",
       "    </tr>\n",
       "    <tr>\n",
       "      <th>4</th>\n",
       "      <td>35216</td>\n",
       "      <td>2065</td>\n",
       "      <td>940</td>\n",
       "      <td>1702</td>\n",
       "      <td>9</td>\n",
       "      <td>9</td>\n",
       "      <td>9</td>\n",
       "    </tr>\n",
       "  </tbody>\n",
       "</table>\n",
       "</div>"
      ],
      "text/plain": [
       "    ZCTA  Households100to149K  Households150to199K  Households200KorMore  \\\n",
       "0  35007                 2224                  473                   254   \n",
       "1  35124                 2012                  809                   805   \n",
       "2  35173                 2265                 1037                   980   \n",
       "3  35215                 1896                  434                   264   \n",
       "4  35216                 2065                  940                  1702   \n",
       "\n",
       "   RFM1  RFM2  RFM3  \n",
       "0     9     8     7  \n",
       "1     9     8     8  \n",
       "2     9     9     9  \n",
       "3     9     8     7  \n",
       "4     9     9     9  "
      ]
     },
     "execution_count": 222,
     "metadata": {},
     "output_type": "execute_result"
    }
   ],
   "source": [
    "zctas.head()"
   ]
  },
  {
   "cell_type": "code",
   "execution_count": 223,
   "metadata": {},
   "outputs": [
    {
     "name": "stdout",
     "output_type": "stream",
     "text": [
      "ZCTA dtype: object with 33120 unique values\n"
     ]
    }
   ],
   "source": [
    "zctas.ZCTA = zctas.ZCTA.astype('str')\n",
    "print(f'ZCTA dtype: {zctas.ZCTA.dtype} with {zctas.ZCTA.nunique()} unique values')\n",
    "\n",
    "# Convert all ZCTAs to 5 digit\n",
    "zctas.ZCTA = [c if len(c) == 5 else '0'+ c if len(c) == 4 else '00'+c \n",
    "             for c in zctas.ZCTA]\n"
   ]
  },
  {
   "cell_type": "code",
   "execution_count": 224,
   "metadata": {},
   "outputs": [],
   "source": [
    "df = df.iloc[:, [0,2,4]].copy()\n",
    "df = df.drop_duplicates(keep='last')\n",
    "\n",
    "df = df.merge(zctas, how='right', left_on= 'ZCTA', right_on= 'ZCTA')\n"
   ]
  },
  {
   "cell_type": "code",
   "execution_count": 225,
   "metadata": {},
   "outputs": [],
   "source": [
    "#convert zip_codes to 5-digit str object\n",
    "df.ZIP_CODE = df.ZIP_CODE.astype('Int64') \n",
    "df.drop(df[df.ZIP_CODE.isna()].index, inplace= True) # drop rows with missing zipcodes\n",
    "df.ZIP_CODE = df.ZIP_CODE.astype('str')\n",
    "df.ZIP_CODE = [c if len(c) == 5 else '0'+ c if len(c) == 4 else '00'+c \n",
    "             for c in df.ZIP_CODE]\n",
    "df"
   ]
  }
 ],
 "metadata": {
  "interpreter": {
   "hash": "482d3cca6a079f04d1053b1594e933c48c12aeb567716e8f07273460d776cf42"
  },
  "kernelspec": {
   "display_name": "Python 3.7.10 64-bit ('basic_ds': conda)",
   "language": "python",
   "name": "python3"
  },
  "language_info": {
   "codemirror_mode": {
    "name": "ipython",
    "version": 3
   },
   "file_extension": ".py",
   "mimetype": "text/x-python",
   "name": "python",
   "nbconvert_exporter": "python",
   "pygments_lexer": "ipython3",
   "version": "3.7.10"
  },
  "orig_nbformat": 4
 },
 "nbformat": 4,
 "nbformat_minor": 2
}
