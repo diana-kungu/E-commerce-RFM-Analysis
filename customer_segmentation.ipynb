{
 "cells": [
  {
   "cell_type": "code",
   "execution_count": 2,
   "metadata": {},
   "outputs": [],
   "source": [
    "from pandas import read_csv\n",
    "\n",
    "#plotting\n",
    "import matplotlib.pyplot as plt\n",
    "%matplotlib inline\n",
    "plt.style.use('ggplot')\n",
    "import seaborn as sns\n",
    "sns.set(style='white')\n",
    "\n",
    "# Import module for k-protoype cluster\n",
    "from kmodes.kprototypes import KPrototypes"
   ]
  },
  {
   "cell_type": "code",
   "execution_count": 3,
   "metadata": {},
   "outputs": [
    {
     "data": {
      "text/html": [
       "<div>\n",
       "<style scoped>\n",
       "    .dataframe tbody tr th:only-of-type {\n",
       "        vertical-align: middle;\n",
       "    }\n",
       "\n",
       "    .dataframe tbody tr th {\n",
       "        vertical-align: top;\n",
       "    }\n",
       "\n",
       "    .dataframe thead th {\n",
       "        text-align: right;\n",
       "    }\n",
       "</style>\n",
       "<table border=\"1\" class=\"dataframe\">\n",
       "  <thead>\n",
       "    <tr style=\"text-align: right;\">\n",
       "      <th></th>\n",
       "      <th>item_id</th>\n",
       "      <th>user_id</th>\n",
       "      <th>discount</th>\n",
       "      <th>CartViewed</th>\n",
       "      <th>CheckoutStarted</th>\n",
       "      <th>OrderCompleted</th>\n",
       "      <th>ProductAdded</th>\n",
       "      <th>ProductViewed</th>\n",
       "      <th>product_name</th>\n",
       "      <th>category</th>\n",
       "      <th>...</th>\n",
       "      <th>age</th>\n",
       "      <th>gender</th>\n",
       "      <th>address1</th>\n",
       "      <th>country</th>\n",
       "      <th>city</th>\n",
       "      <th>state_x</th>\n",
       "      <th>zipcode</th>\n",
       "      <th>zcta</th>\n",
       "      <th>state_y</th>\n",
       "      <th>status</th>\n",
       "    </tr>\n",
       "  </thead>\n",
       "  <tbody>\n",
       "    <tr>\n",
       "      <th>0</th>\n",
       "      <td>00096972-5f6b-44df-917b-f7d21ae5644c</td>\n",
       "      <td>229</td>\n",
       "      <td>Yes</td>\n",
       "      <td>NaT</td>\n",
       "      <td>NaT</td>\n",
       "      <td>NaT</td>\n",
       "      <td>NaT</td>\n",
       "      <td>2020-06-18 19:54:27</td>\n",
       "      <td>Pink Shirt</td>\n",
       "      <td>apparel</td>\n",
       "      <td>...</td>\n",
       "      <td>52</td>\n",
       "      <td>F</td>\n",
       "      <td>1620 Kaitlin Drive Apt. 106</td>\n",
       "      <td>US</td>\n",
       "      <td>New Alicia</td>\n",
       "      <td>MA</td>\n",
       "      <td>1287</td>\n",
       "      <td>NaN</td>\n",
       "      <td>NaN</td>\n",
       "      <td>upper</td>\n",
       "    </tr>\n",
       "    <tr>\n",
       "      <th>1</th>\n",
       "      <td>00096972-5f6b-44df-917b-f7d21ae5644c</td>\n",
       "      <td>417</td>\n",
       "      <td>No</td>\n",
       "      <td>NaT</td>\n",
       "      <td>NaT</td>\n",
       "      <td>NaT</td>\n",
       "      <td>NaT</td>\n",
       "      <td>2020-06-17 00:49:00</td>\n",
       "      <td>Pink Shirt</td>\n",
       "      <td>apparel</td>\n",
       "      <td>...</td>\n",
       "      <td>28</td>\n",
       "      <td>F</td>\n",
       "      <td>224 Huber Plains Apt. 687</td>\n",
       "      <td>US</td>\n",
       "      <td>Meganfort</td>\n",
       "      <td>WI</td>\n",
       "      <td>53601</td>\n",
       "      <td>NaN</td>\n",
       "      <td>NaN</td>\n",
       "      <td>middle</td>\n",
       "    </tr>\n",
       "  </tbody>\n",
       "</table>\n",
       "<p>2 rows × 27 columns</p>\n",
       "</div>"
      ],
      "text/plain": [
       "                                item_id  user_id discount CartViewed  \\\n",
       "0  00096972-5f6b-44df-917b-f7d21ae5644c      229      Yes        NaT   \n",
       "1  00096972-5f6b-44df-917b-f7d21ae5644c      417       No        NaT   \n",
       "\n",
       "  CheckoutStarted OrderCompleted ProductAdded       ProductViewed  \\\n",
       "0             NaT            NaT          NaT 2020-06-18 19:54:27   \n",
       "1             NaT            NaT          NaT 2020-06-17 00:49:00   \n",
       "\n",
       "  product_name category  ... age  gender                     address1 country  \\\n",
       "0   Pink Shirt  apparel  ...  52       F  1620 Kaitlin Drive Apt. 106      US   \n",
       "1   Pink Shirt  apparel  ...  28       F    224 Huber Plains Apt. 687      US   \n",
       "\n",
       "         city state_x zipcode  zcta state_y  status  \n",
       "0  New Alicia      MA    1287   NaN     NaN   upper  \n",
       "1   Meganfort      WI   53601   NaN     NaN  middle  \n",
       "\n",
       "[2 rows x 27 columns]"
      ]
     },
     "execution_count": 3,
     "metadata": {},
     "output_type": "execute_result"
    }
   ],
   "source": [
    "data = read_csv(r'Aws_store_cleaned_data.csv', parse_dates = ['CartViewed',\n",
    "                                    'CheckoutStarted', 'OrderCompleted', \n",
    "                                    'ProductAdded', 'ProductViewed'])\n",
    "data.head(2)"
   ]
  },
  {
   "cell_type": "code",
   "execution_count": 4,
   "metadata": {},
   "outputs": [],
   "source": [
    "buyers = data[data['OrderCompleted'].notna()].copy()"
   ]
  },
  {
   "cell_type": "markdown",
   "metadata": {},
   "source": [
    "#### **Buyers**\n",
    "##### Gender and Age"
   ]
  },
  {
   "cell_type": "code",
   "execution_count": 5,
   "metadata": {},
   "outputs": [
    {
     "data": {
      "text/plain": [
       "Text(0.5, 0, 'Age')"
      ]
     },
     "execution_count": 5,
     "metadata": {},
     "output_type": "execute_result"
    },
    {
     "data": {
      "image/png": "[encoded data removed]",
      "text/plain": [
       "<Figure size 1080x288 with 2 Axes>"
      ]
     },
     "metadata": {},
     "output_type": "display_data"
    }
   ],
   "source": [
    "#Gender and Age distribution\n",
    "fig, axs = plt.subplots(1, 2, figsize=(15, 4), facecolor='w', edgecolor='k')\n",
    "plt.subplot(1,2,1)\n",
    "sns.countplot(x='gender', data= buyers)\n",
    "plt.title('Distribution of gender')\n",
    "sns.despine(bottom = True, left = True)\n",
    "\n",
    "plt.subplot(1,2,2)\n",
    "sns.histplot(buyers, x='age', binwidth= 5)\n",
    "plt.title('Distribution of Age')\n",
    "plt.xlabel('Age')"
   ]
  },
  {
   "cell_type": "code",
   "execution_count": 6,
   "metadata": {},
   "outputs": [
    {
     "data": {
      "text/plain": [
       "<matplotlib.legend.Legend at 0x215457bc508>"
      ]
     },
     "execution_count": 6,
     "metadata": {},
     "output_type": "execute_result"
    },
    {
     "data": {
      "image/png": "[encoded data removed]",
      "text/plain": [
       "<Figure size 576x288 with 1 Axes>"
      ]
     },
     "metadata": {},
     "output_type": "display_data"
    }
   ],
   "source": [
    "plt.figure(figsize=(8,4))\n",
    "plt.hist(data =buyers[buyers['gender'] == 'F'], x='age', alpha= 0.5, label='Female', bins=20)\n",
    "plt.hist(data =buyers[buyers['gender'] == 'M'], x='age', alpha= 0.7, label='Male', bins=20)\n",
    "plt.xlabel('Age')\n",
    "plt.title('Distribution of Age and Gender')\n",
    "plt.legend()\n"
   ]
  },
  {
   "cell_type": "code",
   "execution_count": 7,
   "metadata": {},
   "outputs": [
    {
     "data": {
      "image/png": "[encoded data removed]",
      "text/plain": [
       "<Figure size 720x288 with 1 Axes>"
      ]
     },
     "metadata": {},
     "output_type": "display_data"
    }
   ],
   "source": [
    "buyers_gpd = buyers.groupby(['user_id', 'gender', 'status', 'category'], as_index= False).price.sum()\n",
    "\n",
    "plt.figure(figsize=(10,4))\n",
    "sns.boxplot(x='status', y= 'price', hue=\"gender\",\n",
    "            data= buyers_gpd, showfliers= False, order=['lower', 'middle', 'upper'])\n",
    "plt.ylabel('Revenue per Customer')\n",
    "plt.title('Revenue per Customer by Economic Status')\n",
    "sns.despine(bottom = True, left = True)"
   ]
  },
  {
   "cell_type": "markdown",
   "metadata": {},
   "source": [
    "Male customers generate lower revenue in all economic groups."
   ]
  },
  {
   "cell_type": "code",
   "execution_count": 8,
   "metadata": {},
   "outputs": [
    {
     "data": {
      "image/png": "[encoded data removed]",
      "text/plain": [
       "<Figure size 1440x360 with 1 Axes>"
      ]
     },
     "metadata": {},
     "output_type": "display_data"
    }
   ],
   "source": [
    "plt.figure(figsize=(20,5))\n",
    "sns.boxplot(x='category', y= 'price', hue=\"gender\",\n",
    "            data= buyers_gpd, showfliers= False)\n",
    "plt.ylabel('Revenue per Customer')\n",
    "plt.title('Revenue per Customer by Product Category')\n",
    "sns.despine(bottom = True, left = True)"
   ]
  },
  {
   "cell_type": "code",
   "execution_count": 9,
   "metadata": {},
   "outputs": [],
   "source": [
    "buyers.rename(columns={'state_x': 'state'}, inplace = True)"
   ]
  },
  {
   "cell_type": "code",
   "execution_count": 10,
   "metadata": {},
   "outputs": [
    {
     "data": {
      "text/plain": [
       "Index(['item_id', 'user_id', 'discount', 'CartViewed', 'CheckoutStarted',\n",
       "       'OrderCompleted', 'ProductAdded', 'ProductViewed', 'product_name',\n",
       "       'category', 'style', 'price', 'current_stock', 'username', 'email',\n",
       "       'first_name', 'last_name', 'age', 'gender', 'address1', 'country',\n",
       "       'city', 'state', 'zipcode', 'zcta', 'state_y', 'status'],\n",
       "      dtype='object')"
      ]
     },
     "execution_count": 10,
     "metadata": {},
     "output_type": "execute_result"
    }
   ],
   "source": [
    "buyers.columns"
   ]
  },
  {
   "cell_type": "markdown",
   "metadata": {},
   "source": [
    "##### **K-Prototype Clustering**"
   ]
  },
  {
   "cell_type": "code",
   "execution_count": 11,
   "metadata": {},
   "outputs": [],
   "source": [
    "buyers['total revenue'] = buyers.groupby('user_id').price.transform('sum')\n",
    "df = buyers[['discount', 'age', 'gender', 'category',  'state', \n",
    "             'status', 'total revenue']].copy()"
   ]
  },
  {
   "cell_type": "code",
   "execution_count": 12,
   "metadata": {},
   "outputs": [
    {
     "data": {
      "text/html": [
       "<div>\n",
       "<style scoped>\n",
       "    .dataframe tbody tr th:only-of-type {\n",
       "        vertical-align: middle;\n",
       "    }\n",
       "\n",
       "    .dataframe tbody tr th {\n",
       "        vertical-align: top;\n",
       "    }\n",
       "\n",
       "    .dataframe thead th {\n",
       "        text-align: right;\n",
       "    }\n",
       "</style>\n",
       "<table border=\"1\" class=\"dataframe\">\n",
       "  <thead>\n",
       "    <tr style=\"text-align: right;\">\n",
       "      <th></th>\n",
       "      <th>discount</th>\n",
       "      <th>age</th>\n",
       "      <th>gender</th>\n",
       "      <th>category</th>\n",
       "      <th>state</th>\n",
       "      <th>status</th>\n",
       "      <th>total revenue</th>\n",
       "    </tr>\n",
       "  </thead>\n",
       "  <tbody>\n",
       "    <tr>\n",
       "      <th>18</th>\n",
       "      <td>Yes</td>\n",
       "      <td>53</td>\n",
       "      <td>F</td>\n",
       "      <td>apparel</td>\n",
       "      <td>ID</td>\n",
       "      <td>middle</td>\n",
       "      <td>243.98</td>\n",
       "    </tr>\n",
       "    <tr>\n",
       "      <th>59</th>\n",
       "      <td>No</td>\n",
       "      <td>28</td>\n",
       "      <td>M</td>\n",
       "      <td>groceries</td>\n",
       "      <td>AL</td>\n",
       "      <td>lower</td>\n",
       "      <td>165.97</td>\n",
       "    </tr>\n",
       "    <tr>\n",
       "      <th>65</th>\n",
       "      <td>No</td>\n",
       "      <td>40</td>\n",
       "      <td>M</td>\n",
       "      <td>groceries</td>\n",
       "      <td>AL</td>\n",
       "      <td>middle</td>\n",
       "      <td>122.98</td>\n",
       "    </tr>\n",
       "    <tr>\n",
       "      <th>68</th>\n",
       "      <td>No</td>\n",
       "      <td>20</td>\n",
       "      <td>F</td>\n",
       "      <td>groceries</td>\n",
       "      <td>AR</td>\n",
       "      <td>upper</td>\n",
       "      <td>24.99</td>\n",
       "    </tr>\n",
       "    <tr>\n",
       "      <th>186</th>\n",
       "      <td>Yes</td>\n",
       "      <td>30</td>\n",
       "      <td>M</td>\n",
       "      <td>apparel</td>\n",
       "      <td>UT</td>\n",
       "      <td>lower</td>\n",
       "      <td>194.98</td>\n",
       "    </tr>\n",
       "    <tr>\n",
       "      <th>...</th>\n",
       "      <td>...</td>\n",
       "      <td>...</td>\n",
       "      <td>...</td>\n",
       "      <td>...</td>\n",
       "      <td>...</td>\n",
       "      <td>...</td>\n",
       "      <td>...</td>\n",
       "    </tr>\n",
       "    <tr>\n",
       "      <th>115998</th>\n",
       "      <td>No</td>\n",
       "      <td>32</td>\n",
       "      <td>F</td>\n",
       "      <td>floral</td>\n",
       "      <td>AR</td>\n",
       "      <td>middle</td>\n",
       "      <td>186.98</td>\n",
       "    </tr>\n",
       "    <tr>\n",
       "      <th>116002</th>\n",
       "      <td>No</td>\n",
       "      <td>21</td>\n",
       "      <td>M</td>\n",
       "      <td>floral</td>\n",
       "      <td>NM</td>\n",
       "      <td>middle</td>\n",
       "      <td>129.99</td>\n",
       "    </tr>\n",
       "    <tr>\n",
       "      <th>116061</th>\n",
       "      <td>No</td>\n",
       "      <td>21</td>\n",
       "      <td>F</td>\n",
       "      <td>footwear</td>\n",
       "      <td>NM</td>\n",
       "      <td>lower</td>\n",
       "      <td>948.96</td>\n",
       "    </tr>\n",
       "    <tr>\n",
       "      <th>116062</th>\n",
       "      <td>Yes</td>\n",
       "      <td>21</td>\n",
       "      <td>F</td>\n",
       "      <td>footwear</td>\n",
       "      <td>NM</td>\n",
       "      <td>lower</td>\n",
       "      <td>948.96</td>\n",
       "    </tr>\n",
       "    <tr>\n",
       "      <th>116064</th>\n",
       "      <td>No</td>\n",
       "      <td>41</td>\n",
       "      <td>F</td>\n",
       "      <td>footwear</td>\n",
       "      <td>MA</td>\n",
       "      <td>upper</td>\n",
       "      <td>9.99</td>\n",
       "    </tr>\n",
       "  </tbody>\n",
       "</table>\n",
       "<p>5649 rows × 7 columns</p>\n",
       "</div>"
      ],
      "text/plain": [
       "       discount  age gender   category state  status  total revenue\n",
       "18          Yes   53      F    apparel    ID  middle         243.98\n",
       "59           No   28      M  groceries    AL   lower         165.97\n",
       "65           No   40      M  groceries    AL  middle         122.98\n",
       "68           No   20      F  groceries    AR   upper          24.99\n",
       "186         Yes   30      M    apparel    UT   lower         194.98\n",
       "...         ...  ...    ...        ...   ...     ...            ...\n",
       "115998       No   32      F     floral    AR  middle         186.98\n",
       "116002       No   21      M     floral    NM  middle         129.99\n",
       "116061       No   21      F   footwear    NM   lower         948.96\n",
       "116062      Yes   21      F   footwear    NM   lower         948.96\n",
       "116064       No   41      F   footwear    MA   upper           9.99\n",
       "\n",
       "[5649 rows x 7 columns]"
      ]
     },
     "execution_count": 12,
     "metadata": {},
     "output_type": "execute_result"
    }
   ],
   "source": [
    "df"
   ]
  },
  {
   "cell_type": "code",
   "execution_count": 13,
   "metadata": {},
   "outputs": [
    {
     "data": {
      "text/plain": [
       "array([['Yes', 53, 'F', ..., 'ID', 'middle', 243.98000000000002],\n",
       "       ['No', 28, 'M', ..., 'AL', 'lower', 165.97],\n",
       "       ['No', 40, 'M', ..., 'AL', 'middle', 122.97999999999999],\n",
       "       ...,\n",
       "       ['No', 21, 'F', ..., 'NM', 'lower', 948.96],\n",
       "       ['Yes', 21, 'F', ..., 'NM', 'lower', 948.96],\n",
       "       ['No', 41, 'F', ..., 'MA', 'upper', 9.99]], dtype=object)"
      ]
     },
     "execution_count": 13,
     "metadata": {},
     "output_type": "execute_result"
    }
   ],
   "source": [
    "cat_cols_pos = [df.columns.get_loc(col) for col in \n",
    "            list(df.select_dtypes('object').columns )]\n",
    "\n",
    "df_matrix = df.to_numpy()\n",
    "df_matrix"
   ]
  },
  {
   "cell_type": "code",
   "execution_count": 19,
   "metadata": {},
   "outputs": [],
   "source": [
    "# Choosing optimal K\n",
    "cost = []\n",
    "for cluster in range(1, 10):\n",
    "    try:\n",
    "        kprototype = KPrototypes(n_jobs = 1, n_clusters = cluster, init = 'Huang', random_state = 0)\n",
    "        kprototype.fit_predict(df_matrix, categorical = cat_cols_pos)\n",
    "        cost.append(kprototype.cost_)\n",
    "        print('Cluster initiation: {}'.format(cluster))\n",
    "    except:\n",
    "        break\n",
    "    #https://towardsdatascience.com/the-k-prototype-as-clustering-algorithm-for-mixed-data-type-categorical-and-numerical-fe7c50538ebb"
   ]
  },
  {
   "cell_type": "code",
   "execution_count": 20,
   "metadata": {},
   "outputs": [
    {
     "data": {
      "text/plain": [
       "[]"
      ]
     },
     "execution_count": 20,
     "metadata": {},
     "output_type": "execute_result"
    }
   ],
   "source": [
    "cost"
   ]
  }
 ],
 "metadata": {
  "interpreter": {
   "hash": "6849a5e839599e87325b9e72e1a7f95ec21b3334a1aaf3b38ea62307fa53ff83"
  },
  "kernelspec": {
   "display_name": "Python 3.7.10 64-bit ('rfm': venv)",
   "language": "python",
   "name": "python3"
  },
  "language_info": {
   "codemirror_mode": {
    "name": "ipython",
    "version": 3
   },
   "file_extension": ".py",
   "mimetype": "text/x-python",
   "name": "python",
   "nbconvert_exporter": "python",
   "pygments_lexer": "ipython3",
   "version": "3.7.10"
  },
  "orig_nbformat": 4
 },
 "nbformat": 4,
 "nbformat_minor": 2
}
