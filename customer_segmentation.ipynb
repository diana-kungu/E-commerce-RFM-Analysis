{
 "cells": [
  {
   "cell_type": "code",
   "execution_count": 61,
   "metadata": {},
   "outputs": [],
   "source": [
    "from pandas import read_csv\n",
    "\n",
    "#plotting\n",
    "import matplotlib.pyplot as plt\n",
    "%matplotlib inline\n",
    "plt.style.use('ggplot')\n",
    "import seaborn as sns\n",
    "sns.set(style='white')"
   ]
  },
  {
   "cell_type": "code",
   "execution_count": 62,
   "metadata": {},
   "outputs": [
    {
     "data": {
      "text/html": [
       "<div>\n",
       "<style scoped>\n",
       "    .dataframe tbody tr th:only-of-type {\n",
       "        vertical-align: middle;\n",
       "    }\n",
       "\n",
       "    .dataframe tbody tr th {\n",
       "        vertical-align: top;\n",
       "    }\n",
       "\n",
       "    .dataframe thead th {\n",
       "        text-align: right;\n",
       "    }\n",
       "</style>\n",
       "<table border=\"1\" class=\"dataframe\">\n",
       "  <thead>\n",
       "    <tr style=\"text-align: right;\">\n",
       "      <th></th>\n",
       "      <th>item_id</th>\n",
       "      <th>user_id</th>\n",
       "      <th>discount</th>\n",
       "      <th>CartViewed</th>\n",
       "      <th>CheckoutStarted</th>\n",
       "      <th>OrderCompleted</th>\n",
       "      <th>ProductAdded</th>\n",
       "      <th>ProductViewed</th>\n",
       "      <th>product_name</th>\n",
       "      <th>category</th>\n",
       "      <th>...</th>\n",
       "      <th>age</th>\n",
       "      <th>gender</th>\n",
       "      <th>address1</th>\n",
       "      <th>country</th>\n",
       "      <th>city</th>\n",
       "      <th>state_x</th>\n",
       "      <th>zipcode</th>\n",
       "      <th>zcta</th>\n",
       "      <th>state_y</th>\n",
       "      <th>status</th>\n",
       "    </tr>\n",
       "  </thead>\n",
       "  <tbody>\n",
       "    <tr>\n",
       "      <th>0</th>\n",
       "      <td>00096972-5f6b-44df-917b-f7d21ae5644c</td>\n",
       "      <td>229</td>\n",
       "      <td>Yes</td>\n",
       "      <td>NaT</td>\n",
       "      <td>NaT</td>\n",
       "      <td>NaT</td>\n",
       "      <td>NaT</td>\n",
       "      <td>2020-06-18 19:54:27</td>\n",
       "      <td>Pink Shirt</td>\n",
       "      <td>apparel</td>\n",
       "      <td>...</td>\n",
       "      <td>52</td>\n",
       "      <td>F</td>\n",
       "      <td>1620 Kaitlin Drive Apt. 106</td>\n",
       "      <td>US</td>\n",
       "      <td>New Alicia</td>\n",
       "      <td>MA</td>\n",
       "      <td>1287</td>\n",
       "      <td>NaN</td>\n",
       "      <td>NaN</td>\n",
       "      <td>upper</td>\n",
       "    </tr>\n",
       "    <tr>\n",
       "      <th>1</th>\n",
       "      <td>00096972-5f6b-44df-917b-f7d21ae5644c</td>\n",
       "      <td>417</td>\n",
       "      <td>No</td>\n",
       "      <td>NaT</td>\n",
       "      <td>NaT</td>\n",
       "      <td>NaT</td>\n",
       "      <td>NaT</td>\n",
       "      <td>2020-06-17 00:49:00</td>\n",
       "      <td>Pink Shirt</td>\n",
       "      <td>apparel</td>\n",
       "      <td>...</td>\n",
       "      <td>28</td>\n",
       "      <td>F</td>\n",
       "      <td>224 Huber Plains Apt. 687</td>\n",
       "      <td>US</td>\n",
       "      <td>Meganfort</td>\n",
       "      <td>WI</td>\n",
       "      <td>53601</td>\n",
       "      <td>NaN</td>\n",
       "      <td>NaN</td>\n",
       "      <td>middle</td>\n",
       "    </tr>\n",
       "  </tbody>\n",
       "</table>\n",
       "<p>2 rows × 27 columns</p>\n",
       "</div>"
      ],
      "text/plain": [
       "                                item_id  user_id discount CartViewed  \\\n",
       "0  00096972-5f6b-44df-917b-f7d21ae5644c      229      Yes        NaT   \n",
       "1  00096972-5f6b-44df-917b-f7d21ae5644c      417       No        NaT   \n",
       "\n",
       "  CheckoutStarted OrderCompleted ProductAdded       ProductViewed  \\\n",
       "0             NaT            NaT          NaT 2020-06-18 19:54:27   \n",
       "1             NaT            NaT          NaT 2020-06-17 00:49:00   \n",
       "\n",
       "  product_name category  ... age  gender                     address1 country  \\\n",
       "0   Pink Shirt  apparel  ...  52       F  1620 Kaitlin Drive Apt. 106      US   \n",
       "1   Pink Shirt  apparel  ...  28       F    224 Huber Plains Apt. 687      US   \n",
       "\n",
       "         city state_x zipcode  zcta state_y  status  \n",
       "0  New Alicia      MA    1287   NaN     NaN   upper  \n",
       "1   Meganfort      WI   53601   NaN     NaN  middle  \n",
       "\n",
       "[2 rows x 27 columns]"
      ]
     },
     "execution_count": 62,
     "metadata": {},
     "output_type": "execute_result"
    }
   ],
   "source": [
    "data = read_csv(r'Aws_store_cleaned_data.csv', parse_dates = ['CartViewed',\n",
    "                                    'CheckoutStarted', 'OrderCompleted', \n",
    "                                    'ProductAdded', 'ProductViewed'])\n",
    "data.head(2)"
   ]
  },
  {
   "cell_type": "code",
   "execution_count": 63,
   "metadata": {},
   "outputs": [],
   "source": [
    "buyers = data[data['OrderCompleted'].notna()]"
   ]
  },
  {
   "cell_type": "markdown",
   "metadata": {},
   "source": [
    "##### **Gender and Age**"
   ]
  },
  {
   "cell_type": "code",
   "execution_count": 64,
   "metadata": {},
   "outputs": [
    {
     "data": {
      "text/plain": [
       "Text(0.5, 0, 'Age')"
      ]
     },
     "execution_count": 64,
     "metadata": {},
     "output_type": "execute_result"
    },
    {
     "data": {
      "image/png": "[encoded data removed]",
      "text/plain": [
       "<Figure size 1080x288 with 2 Axes>"
      ]
     },
     "metadata": {},
     "output_type": "display_data"
    }
   ],
   "source": [
    "#Gender and Age distribution\n",
    "fig, axs = plt.subplots(1, 2, figsize=(15, 4), facecolor='w', edgecolor='k')\n",
    "plt.subplot(1,2,1)\n",
    "sns.countplot(x='gender', data= buyers)\n",
    "plt.title('Distribution of gender')\n",
    "sns.despine(bottom = True, left = True)\n",
    "\n",
    "plt.subplot(1,2,2)\n",
    "sns.histplot(buyers, x='age', binwidth= 5)\n",
    "plt.title('Distribution of Age')\n",
    "plt.xlabel('Age')"
   ]
  },
  {
   "cell_type": "code",
   "execution_count": 65,
   "metadata": {},
   "outputs": [
    {
     "data": {
      "text/plain": [
       "<matplotlib.legend.Legend at 0x19716fc0848>"
      ]
     },
     "execution_count": 65,
     "metadata": {},
     "output_type": "execute_result"
    },
    {
     "data": {
      "image/png": "[encoded data removed]",
      "text/plain": [
       "<Figure size 576x288 with 1 Axes>"
      ]
     },
     "metadata": {},
     "output_type": "display_data"
    }
   ],
   "source": [
    "plt.figure(figsize=(8,4))\n",
    "plt.hist(data =buyers[buyers['gender'] == 'F'], x='age', alpha= 0.5, label='Female', bins=20)\n",
    "plt.hist(data =buyers[buyers['gender'] == 'M'], x='age', alpha= 0.7, label='Male', bins=20)\n",
    "plt.xlabel('Age')\n",
    "plt.title('Distribution of Age')\n",
    "plt.legend()\n"
   ]
  },
  {
   "cell_type": "code",
   "execution_count": 82,
   "metadata": {},
   "outputs": [
    {
     "data": {
      "image/png": "[encoded data removed]",
      "text/plain": [
       "<Figure size 720x288 with 1 Axes>"
      ]
     },
     "metadata": {},
     "output_type": "display_data"
    }
   ],
   "source": [
    "buyers_gpd = buyers.groupby(['user_id', 'gender', 'status', 'category'], as_index= False).price.sum()\n",
    "\n",
    "plt.figure(figsize=(10,4))\n",
    "sns.boxplot(x='status', y= 'price', hue=\"gender\",\n",
    "            data= buyers_gpd, showfliers= False, order=['lower', 'middle', 'upper'])\n",
    "plt.ylabel('Revenue per Customer')\n",
    "plt.title('Revenue per Customer by Economic Status')\n",
    "sns.despine(bottom = True, left = True)"
   ]
  },
  {
   "cell_type": "code",
   "execution_count": 84,
   "metadata": {},
   "outputs": [
    {
     "data": {
      "text/html": [
       "<div>\n",
       "<style scoped>\n",
       "    .dataframe tbody tr th:only-of-type {\n",
       "        vertical-align: middle;\n",
       "    }\n",
       "\n",
       "    .dataframe tbody tr th {\n",
       "        vertical-align: top;\n",
       "    }\n",
       "\n",
       "    .dataframe thead th {\n",
       "        text-align: right;\n",
       "    }\n",
       "</style>\n",
       "<table border=\"1\" class=\"dataframe\">\n",
       "  <thead>\n",
       "    <tr style=\"text-align: right;\">\n",
       "      <th></th>\n",
       "      <th>user_id</th>\n",
       "      <th>gender</th>\n",
       "      <th>status</th>\n",
       "      <th>category</th>\n",
       "      <th>price</th>\n",
       "    </tr>\n",
       "  </thead>\n",
       "  <tbody>\n",
       "    <tr>\n",
       "      <th>0</th>\n",
       "      <td>1</td>\n",
       "      <td>M</td>\n",
       "      <td>middle</td>\n",
       "      <td>furniture</td>\n",
       "      <td>165.99</td>\n",
       "    </tr>\n",
       "    <tr>\n",
       "      <th>1</th>\n",
       "      <td>2</td>\n",
       "      <td>F</td>\n",
       "      <td>lower</td>\n",
       "      <td>housewares</td>\n",
       "      <td>57.99</td>\n",
       "    </tr>\n",
       "    <tr>\n",
       "      <th>2</th>\n",
       "      <td>3</td>\n",
       "      <td>M</td>\n",
       "      <td>lower</td>\n",
       "      <td>floral</td>\n",
       "      <td>147.99</td>\n",
       "    </tr>\n",
       "    <tr>\n",
       "      <th>3</th>\n",
       "      <td>4</td>\n",
       "      <td>M</td>\n",
       "      <td>middle</td>\n",
       "      <td>apparel</td>\n",
       "      <td>10.99</td>\n",
       "    </tr>\n",
       "    <tr>\n",
       "      <th>4</th>\n",
       "      <td>5</td>\n",
       "      <td>M</td>\n",
       "      <td>upper</td>\n",
       "      <td>instruments</td>\n",
       "      <td>717.98</td>\n",
       "    </tr>\n",
       "    <tr>\n",
       "      <th>...</th>\n",
       "      <td>...</td>\n",
       "      <td>...</td>\n",
       "      <td>...</td>\n",
       "      <td>...</td>\n",
       "      <td>...</td>\n",
       "    </tr>\n",
       "    <tr>\n",
       "      <th>4972</th>\n",
       "      <td>5996</td>\n",
       "      <td>M</td>\n",
       "      <td>lower</td>\n",
       "      <td>jewelry</td>\n",
       "      <td>193.99</td>\n",
       "    </tr>\n",
       "    <tr>\n",
       "      <th>4973</th>\n",
       "      <td>5997</td>\n",
       "      <td>M</td>\n",
       "      <td>upper</td>\n",
       "      <td>homedecor</td>\n",
       "      <td>20.99</td>\n",
       "    </tr>\n",
       "    <tr>\n",
       "      <th>4974</th>\n",
       "      <td>5998</td>\n",
       "      <td>M</td>\n",
       "      <td>lower</td>\n",
       "      <td>footwear</td>\n",
       "      <td>70.99</td>\n",
       "    </tr>\n",
       "    <tr>\n",
       "      <th>4975</th>\n",
       "      <td>6000</td>\n",
       "      <td>F</td>\n",
       "      <td>lower</td>\n",
       "      <td>homedecor</td>\n",
       "      <td>31.99</td>\n",
       "    </tr>\n",
       "    <tr>\n",
       "      <th>4976</th>\n",
       "      <td>6000</td>\n",
       "      <td>F</td>\n",
       "      <td>upper</td>\n",
       "      <td>apparel</td>\n",
       "      <td>97.99</td>\n",
       "    </tr>\n",
       "  </tbody>\n",
       "</table>\n",
       "<p>4977 rows × 5 columns</p>\n",
       "</div>"
      ],
      "text/plain": [
       "      user_id gender  status     category   price\n",
       "0           1      M  middle    furniture  165.99\n",
       "1           2      F   lower   housewares   57.99\n",
       "2           3      M   lower       floral  147.99\n",
       "3           4      M  middle      apparel   10.99\n",
       "4           5      M   upper  instruments  717.98\n",
       "...       ...    ...     ...          ...     ...\n",
       "4972     5996      M   lower      jewelry  193.99\n",
       "4973     5997      M   upper    homedecor   20.99\n",
       "4974     5998      M   lower     footwear   70.99\n",
       "4975     6000      F   lower    homedecor   31.99\n",
       "4976     6000      F   upper      apparel   97.99\n",
       "\n",
       "[4977 rows x 5 columns]"
      ]
     },
     "execution_count": 84,
     "metadata": {},
     "output_type": "execute_result"
    }
   ],
   "source": [
    "buyers_gpd"
   ]
  },
  {
   "cell_type": "markdown",
   "metadata": {},
   "source": [
    "Male customers generate lower revenue in all economic groups."
   ]
  },
  {
   "cell_type": "code",
   "execution_count": 89,
   "metadata": {},
   "outputs": [
    {
     "data": {
      "image/png": "[encoded data removed]",
      "text/plain": [
       "<Figure size 1440x360 with 1 Axes>"
      ]
     },
     "metadata": {},
     "output_type": "display_data"
    }
   ],
   "source": [
    "plt.figure(figsize=(20,5))\n",
    "sns.boxplot(x='category', y= 'price', hue=\"gender\",\n",
    "            data= buyers_gpd, showfliers= False)\n",
    "plt.ylabel('Revenue per Customer')\n",
    "plt.title('Revenue per Customer by Product Category')\n",
    "sns.despine(bottom = True, left = True)"
   ]
  },
  {
   "cell_type": "code",
   "execution_count": 79,
   "metadata": {},
   "outputs": [
    {
     "data": {
      "text/html": [
       "<div>\n",
       "<style scoped>\n",
       "    .dataframe tbody tr th:only-of-type {\n",
       "        vertical-align: middle;\n",
       "    }\n",
       "\n",
       "    .dataframe tbody tr th {\n",
       "        vertical-align: top;\n",
       "    }\n",
       "\n",
       "    .dataframe thead th {\n",
       "        text-align: right;\n",
       "    }\n",
       "</style>\n",
       "<table border=\"1\" class=\"dataframe\">\n",
       "  <thead>\n",
       "    <tr style=\"text-align: right;\">\n",
       "      <th></th>\n",
       "      <th>user_id</th>\n",
       "      <th>gender</th>\n",
       "      <th>status</th>\n",
       "      <th>price</th>\n",
       "    </tr>\n",
       "  </thead>\n",
       "  <tbody>\n",
       "    <tr>\n",
       "      <th>3335</th>\n",
       "      <td>4582</td>\n",
       "      <td>F</td>\n",
       "      <td>lower</td>\n",
       "      <td>2035.97</td>\n",
       "    </tr>\n",
       "    <tr>\n",
       "      <th>4185</th>\n",
       "      <td>5790</td>\n",
       "      <td>F</td>\n",
       "      <td>middle</td>\n",
       "      <td>2020.98</td>\n",
       "    </tr>\n",
       "    <tr>\n",
       "      <th>3957</th>\n",
       "      <td>5494</td>\n",
       "      <td>F</td>\n",
       "      <td>middle</td>\n",
       "      <td>1946.98</td>\n",
       "    </tr>\n",
       "    <tr>\n",
       "      <th>373</th>\n",
       "      <td>518</td>\n",
       "      <td>M</td>\n",
       "      <td>middle</td>\n",
       "      <td>1946.98</td>\n",
       "    </tr>\n",
       "    <tr>\n",
       "      <th>336</th>\n",
       "      <td>465</td>\n",
       "      <td>F</td>\n",
       "      <td>upper</td>\n",
       "      <td>1868.98</td>\n",
       "    </tr>\n",
       "    <tr>\n",
       "      <th>...</th>\n",
       "      <td>...</td>\n",
       "      <td>...</td>\n",
       "      <td>...</td>\n",
       "      <td>...</td>\n",
       "    </tr>\n",
       "    <tr>\n",
       "      <th>772</th>\n",
       "      <td>1062</td>\n",
       "      <td>M</td>\n",
       "      <td>upper</td>\n",
       "      <td>2.99</td>\n",
       "    </tr>\n",
       "    <tr>\n",
       "      <th>771</th>\n",
       "      <td>1062</td>\n",
       "      <td>M</td>\n",
       "      <td>lower</td>\n",
       "      <td>2.99</td>\n",
       "    </tr>\n",
       "    <tr>\n",
       "      <th>2405</th>\n",
       "      <td>3305</td>\n",
       "      <td>M</td>\n",
       "      <td>lower</td>\n",
       "      <td>2.99</td>\n",
       "    </tr>\n",
       "    <tr>\n",
       "      <th>2679</th>\n",
       "      <td>3691</td>\n",
       "      <td>M</td>\n",
       "      <td>upper</td>\n",
       "      <td>2.99</td>\n",
       "    </tr>\n",
       "    <tr>\n",
       "      <th>1579</th>\n",
       "      <td>2150</td>\n",
       "      <td>F</td>\n",
       "      <td>upper</td>\n",
       "      <td>2.99</td>\n",
       "    </tr>\n",
       "  </tbody>\n",
       "</table>\n",
       "<p>4326 rows × 4 columns</p>\n",
       "</div>"
      ],
      "text/plain": [
       "      user_id gender  status    price\n",
       "3335     4582      F   lower  2035.97\n",
       "4185     5790      F  middle  2020.98\n",
       "3957     5494      F  middle  1946.98\n",
       "373       518      M  middle  1946.98\n",
       "336       465      F   upper  1868.98\n",
       "...       ...    ...     ...      ...\n",
       "772      1062      M   upper     2.99\n",
       "771      1062      M   lower     2.99\n",
       "2405     3305      M   lower     2.99\n",
       "2679     3691      M   upper     2.99\n",
       "1579     2150      F   upper     2.99\n",
       "\n",
       "[4326 rows x 4 columns]"
      ]
     },
     "execution_count": 79,
     "metadata": {},
     "output_type": "execute_result"
    }
   ],
   "source": [
    "buyers_gpd.sort_values(by='price', ascending= False)"
   ]
  }
 ],
 "metadata": {
  "interpreter": {
   "hash": "6849a5e839599e87325b9e72e1a7f95ec21b3334a1aaf3b38ea62307fa53ff83"
  },
  "kernelspec": {
   "display_name": "Python 3.7.10 64-bit ('rfm': venv)",
   "language": "python",
   "name": "python3"
  },
  "language_info": {
   "codemirror_mode": {
    "name": "ipython",
    "version": 3
   },
   "file_extension": ".py",
   "mimetype": "text/x-python",
   "name": "python",
   "nbconvert_exporter": "python",
   "pygments_lexer": "ipython3",
   "version": "3.7.10"
  },
  "orig_nbformat": 4
 },
 "nbformat": 4,
 "nbformat_minor": 2
}
